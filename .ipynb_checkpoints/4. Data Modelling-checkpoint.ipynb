{
 "cells": [
  {
   "cell_type": "markdown",
   "id": "66bf7c1d",
   "metadata": {},
   "source": [
    "# 4. Data modelling"
   ]
  },
  {
   "cell_type": "markdown",
   "id": "4b76c30b",
   "metadata": {},
   "source": [
    "## Tabla resumen del clustering\n",
    "\n",
    "En la siguiente tabla adaptada de la documentación de sklearn, podemos comprobar varios métodos de clustering, sus parámetros correspondientes, escalabilidad, su uso y las nociones de similitud que utilizan, así como el formato de datos de entrada necesario.\n",
    "\n",
    "<table border=\"1\">\n",
    "<colgroup>\n",
    "<col width=\"12.5%\" />\n",
    "<col width=\"12.5%\" />\n",
    "<col width=\"20%\" />\n",
    "<col width=\"20%\" />\n",
    "<col width=\"20%\" />\n",
    "<col width=\"15%\" />\n",
    "</colgroup>\n",
    "<thead valign=\"bottom\">\n",
    "<tr class=\"row-odd\"><th class=\"head\">Nombre del método</th>\n",
    "<th class=\"head\">Parámetros</th>\n",
    "<th class=\"head\">Escalabilidad</th>\n",
    "<th class=\"head\">Uso</th>\n",
    "<th class=\"head\">Métrica</th>\n",
    "<th class=\"head\">Input</th>\n",
    "</tr>\n",
    "</thead>\n",
    "<tbody valign=\"top\">\n",
    "<tr class=\"row-even\"><td><em>K-Means</em></td>\n",
    "<td>Nº de clusters</td>\n",
    "<td>Gran <cite>n_samples</cite>, mediano <cite>n_clusters</cite></td>\n",
    "<td>Uso general, tamaño de grupo parejo, geometría plana, no demasiados clusters</td>\n",
    "<td>Distancia entre puntos</td>\n",
    "<td>Muestras de datos</td>\n",
    "</tr>\n",
    "<tr class=\"row-odd\"><td><em>Spectral clustering</em></td>\n",
    "<td>Nº de clusters</td>\n",
    "<td>Mediano <cite>n_samples</cite>, pequeño <cite>n_clusters</cite></td>\n",
    "<td>Pocos clusters, igual tamaño de cluster, geometría no plana</td>\n",
    "<td>Distancia entre grafos (e.g. nearest-neighbor graph)</td>\n",
    "<td>Matriz de afinidad/distancia</td>\n",
    "</tr>\n",
    "<tr class=\"row-even\"><td><em>Hierarchical clustering</em></td>\n",
    "<td>Nº de clusters / threshold</td>\n",
    "<td>Gran <cite>n_samples</cite> y gran <cite>n_clusters</cite></td>\n",
    "<td>Muchos clusters, posibles restricciones de conectividad</td>\n",
    "<td>Distancias entre puntos</td>\n",
    "<td>Muestras de datos</td>\n",
    "</tr>\n",
    "</tbody>\n",
    "</table>\n"
   ]
  },
  {
   "cell_type": "markdown",
   "id": "b70932c2",
   "metadata": {},
   "source": [
    "El **coeficiente de silueta** se calcula usando la *distancia media dentro del grupo* (a) y la *distancia media del cluster más cercano* (b) para cada muestra. El coeficiente de silueta para una muestra es:\n",
    "\n",
    "                           (b - a) / max(a, b).\n",
    "\n",
    "donde b es la distancia entre una muestra y el cluster más cercano del que la muestra no forma parte. Tenga en cuenta que el coeficiente de silueta solo se define si el número de etiquetas es: $ 2 <= n_{labels} <= n_{samples} - 1$"
   ]
  },
  {
   "cell_type": "markdown",
   "id": "c6958c7e",
   "metadata": {},
   "source": [
    "El algoritmo K-means agrupa los datos tratando de separar las muestras en $n$ grupos de igual varianza. En otras palabras, el algoritmo de K-means divide un conjunto de N muestras X en K grupos distintos C, cada uno descrito por la media de las muestras en el grupo. Las medias se denominan comúnmente clúster **“centroides”**.\n",
    "\n",
    "     ¿Pertenecen los centroides al conjunto original de puntos?\n",
    "\n",
    "El algoritmo K-means tiene como objetivo elegir centroides que minimicen un criterio conocido como **inercia** <inercia> o suma de cuadrados **dentro del cluster** .\n",
    "\n",
    "\n",
    "La inercia, o el criterio de la suma de cuadrados dentro de un cluster, puede describirse como una medida de la coherencia interna de los grupos.\n",
    "\n",
    "Hay que tener en cuenta varias cuestiones:\n",
    "\n",
    "+ No es determinista - depende de la **inicialización**.\n",
    "    \n",
    "+ La inercia hace la **suposición** de que los grupos son **convexos e isotrópicos**, lo que no siempre es así. Responde mal a racimos alargados o variedades con formas irregulares.\n",
    "\n",
    "+ ¿Puede el algoritmo asegurar **convergencia** al mínimo global? - Dado el tiempo suficiente, las K-means siempre convergerán.\n",
    "\n",
    "+ Este algoritmo requiere que se especifique el **número de clusters**.\n",
    "\n",
    "+ Se adapta bien a **un gran número de muestras** y se ha utilizado en una gran variedad de áreas de aplicación en muchos campos diferentes.\n",
    "\n",
    "\n",
    "\n",
    "\n",
    "\n",
    "\n",
    "El cálculo a menudo se realiza varias veces, con diferentes inicializaciones de los centroides. Un método para ayudar a solucionar este problema es el esquema de inicialización k-means++, que se ha implementado en scikit-learn (use el parámetro init='kmeans++'). Esto inicializa los centroides para que estén (generalmente) distantes entre sí, lo que lleva a resultados probablemente mejores que la inicialización aleatoria."
   ]
  },
  {
   "cell_type": "code",
   "execution_count": 1,
   "id": "dace7981",
   "metadata": {},
   "outputs": [],
   "source": [
    "#pip install progressbar\n",
    "#pip install XXXXXXXXXXX [other packages needed]\n",
    "\n",
    "import numpy as np\n",
    "import pandas as pd\n",
    "from bs4 import BeautifulSoup, SoupStrainer\n",
    "import sys\n",
    "import ast\n",
    "import string\n",
    "import missingno as msno \n",
    "import seaborn as sn\n",
    "import requests\n",
    "import datetime\n",
    "import progressbar\n",
    "import time\n",
    "import re\n",
    "from selenium import webdriver\n",
    "from webdriver_manager.chrome import ChromeDriverManager\n",
    "from pandas_profiling import ProfileReport\n",
    "from pandas.plotting import scatter_matrix\n",
    "from matplotlib import pyplot\n",
    "\n",
    "#Maybe not used! (REVIEW)\n",
    "from sklearn.pipeline import Pipeline\n",
    "from sklearn.preprocessing import StandardScaler\n",
    "from sklearn.preprocessing import FunctionTransformer\n",
    "from sklearn.impute import SimpleImputer\n",
    "from sklearn.preprocessing import OneHotEncoder\n",
    "from sklearn.compose import ColumnTransformer\n",
    "from sklearn.impute import KNNImputer\n",
    "from sklearn.decomposition import PCA\n",
    "\n",
    "from sklearn import metrics\n",
    "from sklearn import cluster\n",
    "import scipy.spatial.distance as distance\n",
    "from sklearn.neighbors import kneighbors_graph\n",
    "import pickle\n",
    "\n",
    "import warnings\n",
    "warnings.filterwarnings(\"ignore\")\n",
    "\n",
    "\n",
    "# To plot pretty figures\n",
    "%matplotlib inline\n",
    "import matplotlib as mpl\n",
    "import matplotlib.pyplot as plt\n",
    "mpl.rc('axes', labelsize=14)\n",
    "mpl.rc('xtick', labelsize=12)\n",
    "mpl.rc('ytick', labelsize=12)\n",
    "plt.rc('font', size=12) \n",
    "plt.rc('figure', figsize = (12, 5))\n",
    "\n",
    "# Settings for the visualizations\n",
    "import seaborn as sns\n",
    "sns.set_style(\"whitegrid\")\n",
    "sns.set_context(\"notebook\", font_scale=1, rc={\"lines.linewidth\": 2,'font.family': [u'times']})"
   ]
  },
  {
   "cell_type": "markdown",
   "id": "606b9440",
   "metadata": {},
   "source": [
    "## 4.1 Importaciones"
   ]
  },
  {
   "cell_type": "markdown",
   "id": "a83f7259",
   "metadata": {},
   "source": [
    "Importamos los archivos extraídos del Feature Engineering, los guardamos y les echamos echamos un primer vistazo"
   ]
  },
  {
   "cell_type": "code",
   "execution_count": 2,
   "id": "3dd890de",
   "metadata": {},
   "outputs": [],
   "source": [
    "path = './Clean_data/Golden records/'\n",
    "\n",
    "regs_golden_record_raw = pd.read_csv(path + 'RegS_golden_record.csv',index_col=0)\n",
    "playoff_golden_record_raw = pd.read_csv(path + 'Playoff_golden_record.csv',index_col=0)\n",
    "ring_golden_record_raw = pd.read_csv(path + 'ring_golden_record.csv',index_col=0)"
   ]
  },
  {
   "cell_type": "code",
   "execution_count": 3,
   "id": "3f5af6e4",
   "metadata": {},
   "outputs": [],
   "source": [
    "regs_golden_record = regs_golden_record_raw.copy()\n",
    "playoff_golden_record = playoff_golden_record_raw.copy()\n",
    "ring_golden_record = ring_golden_record_raw.copy()"
   ]
  },
  {
   "cell_type": "code",
   "execution_count": 4,
   "id": "fd3e6137",
   "metadata": {},
   "outputs": [
    {
     "data": {
      "text/html": [
       "<div>\n",
       "<style scoped>\n",
       "    .dataframe tbody tr th:only-of-type {\n",
       "        vertical-align: middle;\n",
       "    }\n",
       "\n",
       "    .dataframe tbody tr th {\n",
       "        vertical-align: top;\n",
       "    }\n",
       "\n",
       "    .dataframe thead th {\n",
       "        text-align: right;\n",
       "    }\n",
       "</style>\n",
       "<table border=\"1\" class=\"dataframe\">\n",
       "  <thead>\n",
       "    <tr style=\"text-align: right;\">\n",
       "      <th></th>\n",
       "      <th>URL</th>\n",
       "      <th>MEAN_N_SEASONS_X_TEAM</th>\n",
       "      <th>N_TEAMS</th>\n",
       "      <th>N_NBA_CHAMPION</th>\n",
       "      <th>N_POSITIONS</th>\n",
       "      <th>COMMON_POSITION</th>\n",
       "      <th>MEAN_G_2S</th>\n",
       "      <th>MEAN_GS_2S</th>\n",
       "      <th>MEAN_FG%_PER_GAME_2S</th>\n",
       "      <th>MEAN_3P_PER_GAME_2S</th>\n",
       "      <th>...</th>\n",
       "      <th>MEAN_OFF_TEAM_RTG_SGFCT</th>\n",
       "      <th>MEAN_W/L%_TEAM_SGFCT</th>\n",
       "      <th>ALL-ROOKIE</th>\n",
       "      <th>ALL_STAR</th>\n",
       "      <th>ROY</th>\n",
       "      <th>HALL_OF_FAME</th>\n",
       "      <th>DRAFT_PICK</th>\n",
       "      <th>HEIGHT(cm)</th>\n",
       "      <th>AGE_ENTRANCE</th>\n",
       "      <th>IS_ACTIVE</th>\n",
       "    </tr>\n",
       "  </thead>\n",
       "  <tbody>\n",
       "    <tr>\n",
       "      <th>0</th>\n",
       "      <td>/players/a/ackeral01.html</td>\n",
       "      <td>1.333333</td>\n",
       "      <td>3</td>\n",
       "      <td>0</td>\n",
       "      <td>1</td>\n",
       "      <td>SG</td>\n",
       "      <td>15.0</td>\n",
       "      <td>0.0</td>\n",
       "      <td>0.3225</td>\n",
       "      <td>0.25</td>\n",
       "      <td>...</td>\n",
       "      <td>106.400</td>\n",
       "      <td>0.494000</td>\n",
       "      <td>0</td>\n",
       "      <td>0</td>\n",
       "      <td>0</td>\n",
       "      <td>0</td>\n",
       "      <td>60</td>\n",
       "      <td>195.58</td>\n",
       "      <td>23</td>\n",
       "      <td>0</td>\n",
       "    </tr>\n",
       "    <tr>\n",
       "      <th>1</th>\n",
       "      <td>/players/a/acyqu01.html</td>\n",
       "      <td>1.571429</td>\n",
       "      <td>7</td>\n",
       "      <td>0</td>\n",
       "      <td>2</td>\n",
       "      <td>PF</td>\n",
       "      <td>46.0</td>\n",
       "      <td>0.0</td>\n",
       "      <td>0.5140</td>\n",
       "      <td>0.05</td>\n",
       "      <td>...</td>\n",
       "      <td>105.325</td>\n",
       "      <td>0.362625</td>\n",
       "      <td>0</td>\n",
       "      <td>0</td>\n",
       "      <td>0</td>\n",
       "      <td>0</td>\n",
       "      <td>37</td>\n",
       "      <td>200.66</td>\n",
       "      <td>23</td>\n",
       "      <td>0</td>\n",
       "    </tr>\n",
       "    <tr>\n",
       "      <th>2</th>\n",
       "      <td>/players/a/adelde01.html</td>\n",
       "      <td>1.000000</td>\n",
       "      <td>1</td>\n",
       "      <td>0</td>\n",
       "      <td>1</td>\n",
       "      <td>SF</td>\n",
       "      <td>19.0</td>\n",
       "      <td>3.0</td>\n",
       "      <td>0.3060</td>\n",
       "      <td>0.30</td>\n",
       "      <td>...</td>\n",
       "      <td>107.700</td>\n",
       "      <td>0.232000</td>\n",
       "      <td>0</td>\n",
       "      <td>0</td>\n",
       "      <td>0</td>\n",
       "      <td>0</td>\n",
       "      <td>-100</td>\n",
       "      <td>200.66</td>\n",
       "      <td>22</td>\n",
       "      <td>0</td>\n",
       "    </tr>\n",
       "    <tr>\n",
       "      <th>3</th>\n",
       "      <td>/players/a/adrieje01.html</td>\n",
       "      <td>1.166667</td>\n",
       "      <td>6</td>\n",
       "      <td>0</td>\n",
       "      <td>1</td>\n",
       "      <td>PF</td>\n",
       "      <td>15.5</td>\n",
       "      <td>0.0</td>\n",
       "      <td>0.4320</td>\n",
       "      <td>0.00</td>\n",
       "      <td>...</td>\n",
       "      <td>102.750</td>\n",
       "      <td>0.317000</td>\n",
       "      <td>0</td>\n",
       "      <td>0</td>\n",
       "      <td>0</td>\n",
       "      <td>0</td>\n",
       "      <td>-100</td>\n",
       "      <td>200.66</td>\n",
       "      <td>25</td>\n",
       "      <td>0</td>\n",
       "    </tr>\n",
       "    <tr>\n",
       "      <th>4</th>\n",
       "      <td>/players/a/akognjo01.html</td>\n",
       "      <td>1.000000</td>\n",
       "      <td>1</td>\n",
       "      <td>0</td>\n",
       "      <td>1</td>\n",
       "      <td>PG</td>\n",
       "      <td>3.0</td>\n",
       "      <td>0.0</td>\n",
       "      <td>0.5000</td>\n",
       "      <td>0.30</td>\n",
       "      <td>...</td>\n",
       "      <td>105.900</td>\n",
       "      <td>0.500000</td>\n",
       "      <td>0</td>\n",
       "      <td>0</td>\n",
       "      <td>0</td>\n",
       "      <td>0</td>\n",
       "      <td>-100</td>\n",
       "      <td>180.34</td>\n",
       "      <td>27</td>\n",
       "      <td>0</td>\n",
       "    </tr>\n",
       "  </tbody>\n",
       "</table>\n",
       "<p>5 rows × 44 columns</p>\n",
       "</div>"
      ],
      "text/plain": [
       "                         URL  MEAN_N_SEASONS_X_TEAM  N_TEAMS  N_NBA_CHAMPION  \\\n",
       "0  /players/a/ackeral01.html               1.333333        3               0   \n",
       "1    /players/a/acyqu01.html               1.571429        7               0   \n",
       "2   /players/a/adelde01.html               1.000000        1               0   \n",
       "3  /players/a/adrieje01.html               1.166667        6               0   \n",
       "4  /players/a/akognjo01.html               1.000000        1               0   \n",
       "\n",
       "   N_POSITIONS COMMON_POSITION  MEAN_G_2S  MEAN_GS_2S  MEAN_FG%_PER_GAME_2S  \\\n",
       "0            1              SG       15.0         0.0                0.3225   \n",
       "1            2              PF       46.0         0.0                0.5140   \n",
       "2            1              SF       19.0         3.0                0.3060   \n",
       "3            1              PF       15.5         0.0                0.4320   \n",
       "4            1              PG        3.0         0.0                0.5000   \n",
       "\n",
       "   MEAN_3P_PER_GAME_2S  ...  MEAN_OFF_TEAM_RTG_SGFCT  MEAN_W/L%_TEAM_SGFCT  \\\n",
       "0                 0.25  ...                  106.400              0.494000   \n",
       "1                 0.05  ...                  105.325              0.362625   \n",
       "2                 0.30  ...                  107.700              0.232000   \n",
       "3                 0.00  ...                  102.750              0.317000   \n",
       "4                 0.30  ...                  105.900              0.500000   \n",
       "\n",
       "   ALL-ROOKIE  ALL_STAR  ROY  HALL_OF_FAME  DRAFT_PICK  HEIGHT(cm)  \\\n",
       "0           0         0    0             0          60      195.58   \n",
       "1           0         0    0             0          37      200.66   \n",
       "2           0         0    0             0        -100      200.66   \n",
       "3           0         0    0             0        -100      200.66   \n",
       "4           0         0    0             0        -100      180.34   \n",
       "\n",
       "   AGE_ENTRANCE  IS_ACTIVE  \n",
       "0            23          0  \n",
       "1            23          0  \n",
       "2            22          0  \n",
       "3            25          0  \n",
       "4            27          0  \n",
       "\n",
       "[5 rows x 44 columns]"
      ]
     },
     "execution_count": 4,
     "metadata": {},
     "output_type": "execute_result"
    }
   ],
   "source": [
    "regs_golden_record.head()"
   ]
  },
  {
   "cell_type": "code",
   "execution_count": 5,
   "id": "d242dbcd",
   "metadata": {},
   "outputs": [
    {
     "data": {
      "text/html": [
       "<div>\n",
       "<style scoped>\n",
       "    .dataframe tbody tr th:only-of-type {\n",
       "        vertical-align: middle;\n",
       "    }\n",
       "\n",
       "    .dataframe tbody tr th {\n",
       "        vertical-align: top;\n",
       "    }\n",
       "\n",
       "    .dataframe thead th {\n",
       "        text-align: right;\n",
       "    }\n",
       "</style>\n",
       "<table border=\"1\" class=\"dataframe\">\n",
       "  <thead>\n",
       "    <tr style=\"text-align: right;\">\n",
       "      <th></th>\n",
       "      <th>URL</th>\n",
       "      <th>MEAN_N_SEASONS_X_TEAM</th>\n",
       "      <th>N_TEAMS</th>\n",
       "      <th>N_NBA_CHAMPION</th>\n",
       "      <th>N_POSITIONS</th>\n",
       "      <th>COMMON_POSITION</th>\n",
       "      <th>MEAN_G_2S</th>\n",
       "      <th>MEAN_GS_2S</th>\n",
       "      <th>MEAN_FG%_PER_GAME_2S</th>\n",
       "      <th>MEAN_3P_PER_GAME_2S</th>\n",
       "      <th>...</th>\n",
       "      <th>MEAN_ORB%_PLAYOFF_1stPO</th>\n",
       "      <th>MEAN_DRB%_PLAYOFF_1stPO</th>\n",
       "      <th>MEAN_AST%_PLAYOFF_1stPO</th>\n",
       "      <th>MEAN_STL%_PLAYOFF_1stPO</th>\n",
       "      <th>MEAN_BLK%_PLAYOFF_1stPO</th>\n",
       "      <th>MEAN_TOV%_PLAYOFF_1stPO</th>\n",
       "      <th>MEAN_USG%_PLAYOFF_1stPO</th>\n",
       "      <th>MEAN_OWS_PLAYOFF_1stPO</th>\n",
       "      <th>MEAN_OBPM_PLAYOFF_1stPO</th>\n",
       "      <th>MEAN_DBPM_PLAYOFF_1stPO</th>\n",
       "    </tr>\n",
       "  </thead>\n",
       "  <tbody>\n",
       "    <tr>\n",
       "      <th>0</th>\n",
       "      <td>/players/a/abdelal01.html</td>\n",
       "      <td>1.8</td>\n",
       "      <td>5</td>\n",
       "      <td>0</td>\n",
       "      <td>1</td>\n",
       "      <td>PF</td>\n",
       "      <td>57.0</td>\n",
       "      <td>0.5</td>\n",
       "      <td>0.4835</td>\n",
       "      <td>0.00</td>\n",
       "      <td>...</td>\n",
       "      <td>8.8</td>\n",
       "      <td>18.9</td>\n",
       "      <td>0.0</td>\n",
       "      <td>0.0</td>\n",
       "      <td>0.0</td>\n",
       "      <td>0.0</td>\n",
       "      <td>19.8</td>\n",
       "      <td>0.0</td>\n",
       "      <td>-2.6</td>\n",
       "      <td>-4.6</td>\n",
       "    </tr>\n",
       "    <tr>\n",
       "      <th>1</th>\n",
       "      <td>/players/a/abdulma02.html</td>\n",
       "      <td>3.0</td>\n",
       "      <td>3</td>\n",
       "      <td>0</td>\n",
       "      <td>1</td>\n",
       "      <td>PG</td>\n",
       "      <td>74.0</td>\n",
       "      <td>15.0</td>\n",
       "      <td>0.4170</td>\n",
       "      <td>0.40</td>\n",
       "      <td>...</td>\n",
       "      <td>1.1</td>\n",
       "      <td>5.0</td>\n",
       "      <td>18.0</td>\n",
       "      <td>0.8</td>\n",
       "      <td>0.2</td>\n",
       "      <td>7.7</td>\n",
       "      <td>24.8</td>\n",
       "      <td>0.2</td>\n",
       "      <td>-0.8</td>\n",
       "      <td>-1.9</td>\n",
       "    </tr>\n",
       "    <tr>\n",
       "      <th>2</th>\n",
       "      <td>/players/a/abdulta01.html</td>\n",
       "      <td>2.0</td>\n",
       "      <td>5</td>\n",
       "      <td>0</td>\n",
       "      <td>1</td>\n",
       "      <td>SG</td>\n",
       "      <td>54.0</td>\n",
       "      <td>32.5</td>\n",
       "      <td>0.4190</td>\n",
       "      <td>0.10</td>\n",
       "      <td>...</td>\n",
       "      <td>6.9</td>\n",
       "      <td>15.7</td>\n",
       "      <td>8.1</td>\n",
       "      <td>2.2</td>\n",
       "      <td>2.8</td>\n",
       "      <td>7.0</td>\n",
       "      <td>20.0</td>\n",
       "      <td>0.3</td>\n",
       "      <td>2.6</td>\n",
       "      <td>1.9</td>\n",
       "    </tr>\n",
       "    <tr>\n",
       "      <th>3</th>\n",
       "      <td>/players/a/abdursh01.html</td>\n",
       "      <td>2.8</td>\n",
       "      <td>5</td>\n",
       "      <td>0</td>\n",
       "      <td>3</td>\n",
       "      <td>PF</td>\n",
       "      <td>81.0</td>\n",
       "      <td>76.5</td>\n",
       "      <td>0.4690</td>\n",
       "      <td>0.20</td>\n",
       "      <td>...</td>\n",
       "      <td>7.1</td>\n",
       "      <td>22.9</td>\n",
       "      <td>10.2</td>\n",
       "      <td>0.8</td>\n",
       "      <td>0.0</td>\n",
       "      <td>20.8</td>\n",
       "      <td>22.8</td>\n",
       "      <td>0.0</td>\n",
       "      <td>-3.5</td>\n",
       "      <td>-1.9</td>\n",
       "    </tr>\n",
       "    <tr>\n",
       "      <th>4</th>\n",
       "      <td>/players/a/abrinal01.html</td>\n",
       "      <td>3.0</td>\n",
       "      <td>1</td>\n",
       "      <td>0</td>\n",
       "      <td>1</td>\n",
       "      <td>SG</td>\n",
       "      <td>71.5</td>\n",
       "      <td>7.0</td>\n",
       "      <td>0.3940</td>\n",
       "      <td>1.25</td>\n",
       "      <td>...</td>\n",
       "      <td>2.6</td>\n",
       "      <td>10.0</td>\n",
       "      <td>7.1</td>\n",
       "      <td>0.0</td>\n",
       "      <td>0.0</td>\n",
       "      <td>0.0</td>\n",
       "      <td>13.3</td>\n",
       "      <td>0.1</td>\n",
       "      <td>-2.8</td>\n",
       "      <td>-1.9</td>\n",
       "    </tr>\n",
       "  </tbody>\n",
       "</table>\n",
       "<p>5 rows × 48 columns</p>\n",
       "</div>"
      ],
      "text/plain": [
       "                         URL  MEAN_N_SEASONS_X_TEAM  N_TEAMS  N_NBA_CHAMPION  \\\n",
       "0  /players/a/abdelal01.html                    1.8        5               0   \n",
       "1  /players/a/abdulma02.html                    3.0        3               0   \n",
       "2  /players/a/abdulta01.html                    2.0        5               0   \n",
       "3  /players/a/abdursh01.html                    2.8        5               0   \n",
       "4  /players/a/abrinal01.html                    3.0        1               0   \n",
       "\n",
       "   N_POSITIONS COMMON_POSITION  MEAN_G_2S  MEAN_GS_2S  MEAN_FG%_PER_GAME_2S  \\\n",
       "0            1              PF       57.0         0.5                0.4835   \n",
       "1            1              PG       74.0        15.0                0.4170   \n",
       "2            1              SG       54.0        32.5                0.4190   \n",
       "3            3              PF       81.0        76.5                0.4690   \n",
       "4            1              SG       71.5         7.0                0.3940   \n",
       "\n",
       "   MEAN_3P_PER_GAME_2S  ...  MEAN_ORB%_PLAYOFF_1stPO  MEAN_DRB%_PLAYOFF_1stPO  \\\n",
       "0                 0.00  ...                      8.8                     18.9   \n",
       "1                 0.40  ...                      1.1                      5.0   \n",
       "2                 0.10  ...                      6.9                     15.7   \n",
       "3                 0.20  ...                      7.1                     22.9   \n",
       "4                 1.25  ...                      2.6                     10.0   \n",
       "\n",
       "   MEAN_AST%_PLAYOFF_1stPO  MEAN_STL%_PLAYOFF_1stPO  MEAN_BLK%_PLAYOFF_1stPO  \\\n",
       "0                      0.0                      0.0                      0.0   \n",
       "1                     18.0                      0.8                      0.2   \n",
       "2                      8.1                      2.2                      2.8   \n",
       "3                     10.2                      0.8                      0.0   \n",
       "4                      7.1                      0.0                      0.0   \n",
       "\n",
       "   MEAN_TOV%_PLAYOFF_1stPO  MEAN_USG%_PLAYOFF_1stPO  MEAN_OWS_PLAYOFF_1stPO  \\\n",
       "0                      0.0                     19.8                     0.0   \n",
       "1                      7.7                     24.8                     0.2   \n",
       "2                      7.0                     20.0                     0.3   \n",
       "3                     20.8                     22.8                     0.0   \n",
       "4                      0.0                     13.3                     0.1   \n",
       "\n",
       "   MEAN_OBPM_PLAYOFF_1stPO  MEAN_DBPM_PLAYOFF_1stPO  \n",
       "0                     -2.6                     -4.6  \n",
       "1                     -0.8                     -1.9  \n",
       "2                      2.6                      1.9  \n",
       "3                     -3.5                     -1.9  \n",
       "4                     -2.8                     -1.9  \n",
       "\n",
       "[5 rows x 48 columns]"
      ]
     },
     "execution_count": 5,
     "metadata": {},
     "output_type": "execute_result"
    }
   ],
   "source": [
    "playoff_golden_record.head()"
   ]
  },
  {
   "cell_type": "code",
   "execution_count": 6,
   "id": "94a4f297",
   "metadata": {},
   "outputs": [
    {
     "data": {
      "text/html": [
       "<div>\n",
       "<style scoped>\n",
       "    .dataframe tbody tr th:only-of-type {\n",
       "        vertical-align: middle;\n",
       "    }\n",
       "\n",
       "    .dataframe tbody tr th {\n",
       "        vertical-align: top;\n",
       "    }\n",
       "\n",
       "    .dataframe thead th {\n",
       "        text-align: right;\n",
       "    }\n",
       "</style>\n",
       "<table border=\"1\" class=\"dataframe\">\n",
       "  <thead>\n",
       "    <tr style=\"text-align: right;\">\n",
       "      <th></th>\n",
       "      <th>URL</th>\n",
       "      <th>MEAN_G_RING</th>\n",
       "      <th>MEAN_GS_RING</th>\n",
       "      <th>MEAN_FG%_PER_GAME_RING</th>\n",
       "      <th>MEAN_3P_PER_GAME_RING</th>\n",
       "      <th>MEAN_3P%_PER_GAME_RING</th>\n",
       "      <th>MEAN_FT%_PER_GAME_RING</th>\n",
       "      <th>MEAN_ORB_PER_GAME_RING</th>\n",
       "      <th>MEAN_FTr_RING</th>\n",
       "      <th>MEAN_DRB%_RING</th>\n",
       "      <th>...</th>\n",
       "      <th>MEAN_BLK%_2S</th>\n",
       "      <th>MEAN_TOV%_2S</th>\n",
       "      <th>MEAN_USG%_2S</th>\n",
       "      <th>MEAN_OFF_TEAM_RTG_2S</th>\n",
       "      <th>MEAN_DEFF_TEAM_RTG_2S</th>\n",
       "      <th>MEAN_OFF_TEAM_RTG_SGFCT</th>\n",
       "      <th>ROY</th>\n",
       "      <th>DRAFT_PICK</th>\n",
       "      <th>AGE_ENTRANCE</th>\n",
       "      <th>IS_ACTIVE</th>\n",
       "    </tr>\n",
       "  </thead>\n",
       "  <tbody>\n",
       "    <tr>\n",
       "      <th>0</th>\n",
       "      <td>/players/a/adamsja01.html</td>\n",
       "      <td>7.0</td>\n",
       "      <td>0.0</td>\n",
       "      <td>0.125</td>\n",
       "      <td>0.00</td>\n",
       "      <td>0.0000</td>\n",
       "      <td>0.0000</td>\n",
       "      <td>0.00</td>\n",
       "      <td>0.0000</td>\n",
       "      <td>16.9</td>\n",
       "      <td>...</td>\n",
       "      <td>0.50</td>\n",
       "      <td>9.85</td>\n",
       "      <td>16.05</td>\n",
       "      <td>112.65</td>\n",
       "      <td>112.65</td>\n",
       "      <td>108.100000</td>\n",
       "      <td>0</td>\n",
       "      <td>-100</td>\n",
       "      <td>23</td>\n",
       "      <td>0</td>\n",
       "    </tr>\n",
       "    <tr>\n",
       "      <th>1</th>\n",
       "      <td>/players/a/agerma01.html</td>\n",
       "      <td>26.0</td>\n",
       "      <td>3.0</td>\n",
       "      <td>0.323</td>\n",
       "      <td>0.10</td>\n",
       "      <td>0.1580</td>\n",
       "      <td>0.5000</td>\n",
       "      <td>0.20</td>\n",
       "      <td>0.1850</td>\n",
       "      <td>6.3</td>\n",
       "      <td>...</td>\n",
       "      <td>0.75</td>\n",
       "      <td>11.50</td>\n",
       "      <td>21.50</td>\n",
       "      <td>110.75</td>\n",
       "      <td>101.05</td>\n",
       "      <td>108.450000</td>\n",
       "      <td>0</td>\n",
       "      <td>28</td>\n",
       "      <td>23</td>\n",
       "      <td>0</td>\n",
       "    </tr>\n",
       "    <tr>\n",
       "      <th>2</th>\n",
       "      <td>/players/a/ajincal01.html</td>\n",
       "      <td>10.0</td>\n",
       "      <td>2.0</td>\n",
       "      <td>0.375</td>\n",
       "      <td>0.30</td>\n",
       "      <td>0.4290</td>\n",
       "      <td>0.6670</td>\n",
       "      <td>0.50</td>\n",
       "      <td>0.0940</td>\n",
       "      <td>18.0</td>\n",
       "      <td>...</td>\n",
       "      <td>2.70</td>\n",
       "      <td>14.50</td>\n",
       "      <td>21.75</td>\n",
       "      <td>104.55</td>\n",
       "      <td>104.45</td>\n",
       "      <td>106.480000</td>\n",
       "      <td>0</td>\n",
       "      <td>-100</td>\n",
       "      <td>21</td>\n",
       "      <td>0</td>\n",
       "    </tr>\n",
       "    <tr>\n",
       "      <th>3</th>\n",
       "      <td>/players/a/allenma01.html</td>\n",
       "      <td>73.0</td>\n",
       "      <td>16.0</td>\n",
       "      <td>0.480</td>\n",
       "      <td>0.00</td>\n",
       "      <td>0.5000</td>\n",
       "      <td>0.9200</td>\n",
       "      <td>0.90</td>\n",
       "      <td>0.0760</td>\n",
       "      <td>13.6</td>\n",
       "      <td>...</td>\n",
       "      <td>3.20</td>\n",
       "      <td>8.35</td>\n",
       "      <td>18.35</td>\n",
       "      <td>97.60</td>\n",
       "      <td>101.30</td>\n",
       "      <td>104.525000</td>\n",
       "      <td>0</td>\n",
       "      <td>-100</td>\n",
       "      <td>24</td>\n",
       "      <td>0</td>\n",
       "    </tr>\n",
       "    <tr>\n",
       "      <th>4</th>\n",
       "      <td>/players/a/allenra02.html</td>\n",
       "      <td>76.0</td>\n",
       "      <td>36.5</td>\n",
       "      <td>0.447</td>\n",
       "      <td>2.15</td>\n",
       "      <td>0.4085</td>\n",
       "      <td>0.8965</td>\n",
       "      <td>0.75</td>\n",
       "      <td>0.2415</td>\n",
       "      <td>9.2</td>\n",
       "      <td>...</td>\n",
       "      <td>0.30</td>\n",
       "      <td>13.90</td>\n",
       "      <td>22.85</td>\n",
       "      <td>104.85</td>\n",
       "      <td>106.95</td>\n",
       "      <td>107.958824</td>\n",
       "      <td>0</td>\n",
       "      <td>5</td>\n",
       "      <td>22</td>\n",
       "      <td>0</td>\n",
       "    </tr>\n",
       "  </tbody>\n",
       "</table>\n",
       "<p>5 rows × 47 columns</p>\n",
       "</div>"
      ],
      "text/plain": [
       "                         URL  MEAN_G_RING  MEAN_GS_RING  \\\n",
       "0  /players/a/adamsja01.html          7.0           0.0   \n",
       "1   /players/a/agerma01.html         26.0           3.0   \n",
       "2  /players/a/ajincal01.html         10.0           2.0   \n",
       "3  /players/a/allenma01.html         73.0          16.0   \n",
       "4  /players/a/allenra02.html         76.0          36.5   \n",
       "\n",
       "   MEAN_FG%_PER_GAME_RING  MEAN_3P_PER_GAME_RING  MEAN_3P%_PER_GAME_RING  \\\n",
       "0                   0.125                   0.00                  0.0000   \n",
       "1                   0.323                   0.10                  0.1580   \n",
       "2                   0.375                   0.30                  0.4290   \n",
       "3                   0.480                   0.00                  0.5000   \n",
       "4                   0.447                   2.15                  0.4085   \n",
       "\n",
       "   MEAN_FT%_PER_GAME_RING  MEAN_ORB_PER_GAME_RING  MEAN_FTr_RING  \\\n",
       "0                  0.0000                    0.00         0.0000   \n",
       "1                  0.5000                    0.20         0.1850   \n",
       "2                  0.6670                    0.50         0.0940   \n",
       "3                  0.9200                    0.90         0.0760   \n",
       "4                  0.8965                    0.75         0.2415   \n",
       "\n",
       "   MEAN_DRB%_RING  ...  MEAN_BLK%_2S  MEAN_TOV%_2S  MEAN_USG%_2S  \\\n",
       "0            16.9  ...          0.50          9.85         16.05   \n",
       "1             6.3  ...          0.75         11.50         21.50   \n",
       "2            18.0  ...          2.70         14.50         21.75   \n",
       "3            13.6  ...          3.20          8.35         18.35   \n",
       "4             9.2  ...          0.30         13.90         22.85   \n",
       "\n",
       "   MEAN_OFF_TEAM_RTG_2S  MEAN_DEFF_TEAM_RTG_2S  MEAN_OFF_TEAM_RTG_SGFCT  ROY  \\\n",
       "0                112.65                 112.65               108.100000    0   \n",
       "1                110.75                 101.05               108.450000    0   \n",
       "2                104.55                 104.45               106.480000    0   \n",
       "3                 97.60                 101.30               104.525000    0   \n",
       "4                104.85                 106.95               107.958824    0   \n",
       "\n",
       "   DRAFT_PICK  AGE_ENTRANCE  IS_ACTIVE  \n",
       "0        -100            23          0  \n",
       "1          28            23          0  \n",
       "2        -100            21          0  \n",
       "3        -100            24          0  \n",
       "4           5            22          0  \n",
       "\n",
       "[5 rows x 47 columns]"
      ]
     },
     "execution_count": 6,
     "metadata": {},
     "output_type": "execute_result"
    }
   ],
   "source": [
    "ring_golden_record.head()"
   ]
  },
  {
   "cell_type": "markdown",
   "id": "560cc8dd",
   "metadata": {},
   "source": [
    "## 4.2 Transformación y preparación de los datos para el clustering"
   ]
  },
  {
   "cell_type": "markdown",
   "id": "1d3004cf",
   "metadata": {},
   "source": [
    "### 4.2.1 RegS Golden Record"
   ]
  },
  {
   "cell_type": "markdown",
   "id": "e2f1fe9b",
   "metadata": {},
   "source": [
    "Analizamos los tipos de datos de las variables y tratamos las no numéricas"
   ]
  },
  {
   "cell_type": "code",
   "execution_count": 7,
   "id": "41bc7724",
   "metadata": {},
   "outputs": [
    {
     "data": {
      "text/plain": [
       "URL                         object\n",
       "MEAN_N_SEASONS_X_TEAM      float64\n",
       "N_TEAMS                      int64\n",
       "N_NBA_CHAMPION               int64\n",
       "N_POSITIONS                  int64\n",
       "COMMON_POSITION             object\n",
       "MEAN_G_2S                  float64\n",
       "MEAN_GS_2S                 float64\n",
       "MEAN_FG%_PER_GAME_2S       float64\n",
       "MEAN_3P_PER_GAME_2S        float64\n",
       "MEAN_3P%_PER_GAME_2S       float64\n",
       "MEAN_FT%_PER_GAME_2S       float64\n",
       "MEAN_ORB_PER_GAME_2S       float64\n",
       "MEAN_AST_PER_GAME_2S       float64\n",
       "MEAN_STL_PER_GAME_2S       float64\n",
       "MEAN_BLK_PER_GAME_2S       float64\n",
       "MEAN_PF_PER_GAME_2S        float64\n",
       "MEAN_PER_2S                float64\n",
       "MEAN_3PAr_2S               float64\n",
       "MEAN_FTr_2S                float64\n",
       "MEAN_ORB%_2S               float64\n",
       "MEAN_DRB%_2S               float64\n",
       "MEAN_AST%_2S               float64\n",
       "MEAN_STL%_2S               float64\n",
       "MEAN_BLK%_2S               float64\n",
       "MEAN_TOV%_2S               float64\n",
       "MEAN_USG%_2S               float64\n",
       "MEAN_OWS_2S                float64\n",
       "MEAN_DBPM_2S               float64\n",
       "MEAN_OFF_TEAM_RTG_2S       float64\n",
       "MEAN_DEFF_TEAM_RTG_2S      float64\n",
       "MEAN_W/L%_TEAM_2S          float64\n",
       "MEAN_GS_SGFCT              float64\n",
       "MEAN_OWS_SGFCT             float64\n",
       "MEAN_OFF_TEAM_RTG_SGFCT    float64\n",
       "MEAN_W/L%_TEAM_SGFCT       float64\n",
       "ALL-ROOKIE                   int64\n",
       "ALL_STAR                     int64\n",
       "ROY                          int64\n",
       "HALL_OF_FAME                 int64\n",
       "DRAFT_PICK                   int64\n",
       "HEIGHT(cm)                 float64\n",
       "AGE_ENTRANCE                 int64\n",
       "IS_ACTIVE                    int64\n",
       "dtype: object"
      ]
     },
     "execution_count": 7,
     "metadata": {},
     "output_type": "execute_result"
    }
   ],
   "source": [
    "regs_golden_record.dtypes"
   ]
  },
  {
   "cell_type": "code",
   "execution_count": 8,
   "id": "2b00d967",
   "metadata": {},
   "outputs": [
    {
     "data": {
      "text/plain": [
       "Index(['URL', 'COMMON_POSITION'], dtype='object')"
      ]
     },
     "execution_count": 8,
     "metadata": {},
     "output_type": "execute_result"
    }
   ],
   "source": [
    "string_cols = regs_golden_record.columns[regs_golden_record.dtypes == object]\n",
    "string_cols"
   ]
  },
  {
   "cell_type": "markdown",
   "id": "e0b36c49",
   "metadata": {},
   "source": [
    "Exploramos la variable *COMMON_POSITION*"
   ]
  },
  {
   "cell_type": "code",
   "execution_count": 9,
   "id": "f6feb4cd",
   "metadata": {},
   "outputs": [
    {
     "name": "stdout",
     "output_type": "stream",
     "text": [
      "To much categories in column URL\n",
      "Distribution for column COMMON_POSITION:\n",
      "SG    247\n",
      "PG    240\n",
      "SF    229\n",
      "PF    227\n",
      "C     212\n",
      "Name: COMMON_POSITION, dtype: int64\n"
     ]
    }
   ],
   "source": [
    "for i in string_cols:\n",
    "    if len(regs_golden_record[i].unique())<10:\n",
    "        print('Distribution for column ' + i + ':')\n",
    "        print(regs_golden_record[i].value_counts())\n",
    "    else:\n",
    "        print('To much categories in column ' + i)"
   ]
  },
  {
   "cell_type": "code",
   "execution_count": 10,
   "id": "9ee845e3",
   "metadata": {},
   "outputs": [
    {
     "data": {
      "text/plain": [
       "<AxesSubplot:>"
      ]
     },
     "execution_count": 10,
     "metadata": {},
     "output_type": "execute_result"
    },
    {
     "data": {
      "image/png": "[encoded data removed]",
      "text/plain": [
       "<Figure size 864x360 with 1 Axes>"
      ]
     },
     "metadata": {},
     "output_type": "display_data"
    }
   ],
   "source": [
    "regs_golden_record['COMMON_POSITION'].hist()\n",
    "\n",
    "#We only consider 5 positions:\n",
    "#G -> Guard (1)\n",
    "#G-F/F-G -> Shooting-guard (2)\n",
    "#F -> Forward (3)\n",
    "#F-C/C-F -> Power-forward (4)\n",
    "#C -> Center (5)"
   ]
  },
  {
   "cell_type": "markdown",
   "id": "3f165e0a",
   "metadata": {},
   "source": [
    "Transformamos la variable *COMMON_POSITION* mediante One Hot Encoding y eliminamos la variable *URL*"
   ]
  },
  {
   "cell_type": "code",
   "execution_count": 11,
   "id": "f33ebbee",
   "metadata": {},
   "outputs": [
    {
     "data": {
      "text/html": [
       "<div>\n",
       "<style scoped>\n",
       "    .dataframe tbody tr th:only-of-type {\n",
       "        vertical-align: middle;\n",
       "    }\n",
       "\n",
       "    .dataframe tbody tr th {\n",
       "        vertical-align: top;\n",
       "    }\n",
       "\n",
       "    .dataframe thead th {\n",
       "        text-align: right;\n",
       "    }\n",
       "</style>\n",
       "<table border=\"1\" class=\"dataframe\">\n",
       "  <thead>\n",
       "    <tr style=\"text-align: right;\">\n",
       "      <th></th>\n",
       "      <th>URL</th>\n",
       "      <th>MEAN_N_SEASONS_X_TEAM</th>\n",
       "      <th>N_TEAMS</th>\n",
       "      <th>N_NBA_CHAMPION</th>\n",
       "      <th>N_POSITIONS</th>\n",
       "      <th>COMMON_POSITION</th>\n",
       "      <th>MEAN_G_2S</th>\n",
       "      <th>MEAN_GS_2S</th>\n",
       "      <th>MEAN_FG%_PER_GAME_2S</th>\n",
       "      <th>MEAN_3P_PER_GAME_2S</th>\n",
       "      <th>...</th>\n",
       "      <th>MEAN_OFF_TEAM_RTG_SGFCT</th>\n",
       "      <th>MEAN_W/L%_TEAM_SGFCT</th>\n",
       "      <th>ALL-ROOKIE</th>\n",
       "      <th>ALL_STAR</th>\n",
       "      <th>ROY</th>\n",
       "      <th>HALL_OF_FAME</th>\n",
       "      <th>DRAFT_PICK</th>\n",
       "      <th>HEIGHT(cm)</th>\n",
       "      <th>AGE_ENTRANCE</th>\n",
       "      <th>IS_ACTIVE</th>\n",
       "    </tr>\n",
       "  </thead>\n",
       "  <tbody>\n",
       "    <tr>\n",
       "      <th>0</th>\n",
       "      <td>/players/a/ackeral01.html</td>\n",
       "      <td>1.333333</td>\n",
       "      <td>3</td>\n",
       "      <td>0</td>\n",
       "      <td>1</td>\n",
       "      <td>SG</td>\n",
       "      <td>15.0</td>\n",
       "      <td>0.0</td>\n",
       "      <td>0.3225</td>\n",
       "      <td>0.25</td>\n",
       "      <td>...</td>\n",
       "      <td>106.400</td>\n",
       "      <td>0.494000</td>\n",
       "      <td>0</td>\n",
       "      <td>0</td>\n",
       "      <td>0</td>\n",
       "      <td>0</td>\n",
       "      <td>60</td>\n",
       "      <td>195.58</td>\n",
       "      <td>23</td>\n",
       "      <td>0</td>\n",
       "    </tr>\n",
       "    <tr>\n",
       "      <th>1</th>\n",
       "      <td>/players/a/acyqu01.html</td>\n",
       "      <td>1.571429</td>\n",
       "      <td>7</td>\n",
       "      <td>0</td>\n",
       "      <td>2</td>\n",
       "      <td>PF</td>\n",
       "      <td>46.0</td>\n",
       "      <td>0.0</td>\n",
       "      <td>0.5140</td>\n",
       "      <td>0.05</td>\n",
       "      <td>...</td>\n",
       "      <td>105.325</td>\n",
       "      <td>0.362625</td>\n",
       "      <td>0</td>\n",
       "      <td>0</td>\n",
       "      <td>0</td>\n",
       "      <td>0</td>\n",
       "      <td>37</td>\n",
       "      <td>200.66</td>\n",
       "      <td>23</td>\n",
       "      <td>0</td>\n",
       "    </tr>\n",
       "    <tr>\n",
       "      <th>2</th>\n",
       "      <td>/players/a/adelde01.html</td>\n",
       "      <td>1.000000</td>\n",
       "      <td>1</td>\n",
       "      <td>0</td>\n",
       "      <td>1</td>\n",
       "      <td>SF</td>\n",
       "      <td>19.0</td>\n",
       "      <td>3.0</td>\n",
       "      <td>0.3060</td>\n",
       "      <td>0.30</td>\n",
       "      <td>...</td>\n",
       "      <td>107.700</td>\n",
       "      <td>0.232000</td>\n",
       "      <td>0</td>\n",
       "      <td>0</td>\n",
       "      <td>0</td>\n",
       "      <td>0</td>\n",
       "      <td>-100</td>\n",
       "      <td>200.66</td>\n",
       "      <td>22</td>\n",
       "      <td>0</td>\n",
       "    </tr>\n",
       "    <tr>\n",
       "      <th>3</th>\n",
       "      <td>/players/a/adrieje01.html</td>\n",
       "      <td>1.166667</td>\n",
       "      <td>6</td>\n",
       "      <td>0</td>\n",
       "      <td>1</td>\n",
       "      <td>PF</td>\n",
       "      <td>15.5</td>\n",
       "      <td>0.0</td>\n",
       "      <td>0.4320</td>\n",
       "      <td>0.00</td>\n",
       "      <td>...</td>\n",
       "      <td>102.750</td>\n",
       "      <td>0.317000</td>\n",
       "      <td>0</td>\n",
       "      <td>0</td>\n",
       "      <td>0</td>\n",
       "      <td>0</td>\n",
       "      <td>-100</td>\n",
       "      <td>200.66</td>\n",
       "      <td>25</td>\n",
       "      <td>0</td>\n",
       "    </tr>\n",
       "    <tr>\n",
       "      <th>4</th>\n",
       "      <td>/players/a/akognjo01.html</td>\n",
       "      <td>1.000000</td>\n",
       "      <td>1</td>\n",
       "      <td>0</td>\n",
       "      <td>1</td>\n",
       "      <td>PG</td>\n",
       "      <td>3.0</td>\n",
       "      <td>0.0</td>\n",
       "      <td>0.5000</td>\n",
       "      <td>0.30</td>\n",
       "      <td>...</td>\n",
       "      <td>105.900</td>\n",
       "      <td>0.500000</td>\n",
       "      <td>0</td>\n",
       "      <td>0</td>\n",
       "      <td>0</td>\n",
       "      <td>0</td>\n",
       "      <td>-100</td>\n",
       "      <td>180.34</td>\n",
       "      <td>27</td>\n",
       "      <td>0</td>\n",
       "    </tr>\n",
       "  </tbody>\n",
       "</table>\n",
       "<p>5 rows × 44 columns</p>\n",
       "</div>"
      ],
      "text/plain": [
       "                         URL  MEAN_N_SEASONS_X_TEAM  N_TEAMS  N_NBA_CHAMPION  \\\n",
       "0  /players/a/ackeral01.html               1.333333        3               0   \n",
       "1    /players/a/acyqu01.html               1.571429        7               0   \n",
       "2   /players/a/adelde01.html               1.000000        1               0   \n",
       "3  /players/a/adrieje01.html               1.166667        6               0   \n",
       "4  /players/a/akognjo01.html               1.000000        1               0   \n",
       "\n",
       "   N_POSITIONS COMMON_POSITION  MEAN_G_2S  MEAN_GS_2S  MEAN_FG%_PER_GAME_2S  \\\n",
       "0            1              SG       15.0         0.0                0.3225   \n",
       "1            2              PF       46.0         0.0                0.5140   \n",
       "2            1              SF       19.0         3.0                0.3060   \n",
       "3            1              PF       15.5         0.0                0.4320   \n",
       "4            1              PG        3.0         0.0                0.5000   \n",
       "\n",
       "   MEAN_3P_PER_GAME_2S  ...  MEAN_OFF_TEAM_RTG_SGFCT  MEAN_W/L%_TEAM_SGFCT  \\\n",
       "0                 0.25  ...                  106.400              0.494000   \n",
       "1                 0.05  ...                  105.325              0.362625   \n",
       "2                 0.30  ...                  107.700              0.232000   \n",
       "3                 0.00  ...                  102.750              0.317000   \n",
       "4                 0.30  ...                  105.900              0.500000   \n",
       "\n",
       "   ALL-ROOKIE  ALL_STAR  ROY  HALL_OF_FAME  DRAFT_PICK  HEIGHT(cm)  \\\n",
       "0           0         0    0             0          60      195.58   \n",
       "1           0         0    0             0          37      200.66   \n",
       "2           0         0    0             0        -100      200.66   \n",
       "3           0         0    0             0        -100      200.66   \n",
       "4           0         0    0             0        -100      180.34   \n",
       "\n",
       "   AGE_ENTRANCE  IS_ACTIVE  \n",
       "0            23          0  \n",
       "1            23          0  \n",
       "2            22          0  \n",
       "3            25          0  \n",
       "4            27          0  \n",
       "\n",
       "[5 rows x 44 columns]"
      ]
     },
     "execution_count": 11,
     "metadata": {},
     "output_type": "execute_result"
    }
   ],
   "source": [
    "regs_golden_record.head()"
   ]
  },
  {
   "cell_type": "code",
   "execution_count": 12,
   "id": "26a1e8e6",
   "metadata": {},
   "outputs": [],
   "source": [
    "cols_to_drop = ['URL']\n",
    "regs_golden_record_0 = regs_golden_record[[c for c in regs_golden_record.columns if c not in cols_to_drop]]"
   ]
  },
  {
   "cell_type": "code",
   "execution_count": 13,
   "id": "7d1389aa",
   "metadata": {},
   "outputs": [],
   "source": [
    "regs_golden_record_1 = regs_golden_record_0.copy()\n",
    "\n",
    "regs_golden_record_1 = pd.get_dummies(regs_golden_record_1,prefix='',prefix_sep='')#,prefix='OHE'"
   ]
  },
  {
   "cell_type": "code",
   "execution_count": 14,
   "id": "dad6714a",
   "metadata": {},
   "outputs": [
    {
     "data": {
      "text/html": [
       "<div>\n",
       "<style scoped>\n",
       "    .dataframe tbody tr th:only-of-type {\n",
       "        vertical-align: middle;\n",
       "    }\n",
       "\n",
       "    .dataframe tbody tr th {\n",
       "        vertical-align: top;\n",
       "    }\n",
       "\n",
       "    .dataframe thead th {\n",
       "        text-align: right;\n",
       "    }\n",
       "</style>\n",
       "<table border=\"1\" class=\"dataframe\">\n",
       "  <thead>\n",
       "    <tr style=\"text-align: right;\">\n",
       "      <th></th>\n",
       "      <th>MEAN_N_SEASONS_X_TEAM</th>\n",
       "      <th>N_TEAMS</th>\n",
       "      <th>N_NBA_CHAMPION</th>\n",
       "      <th>N_POSITIONS</th>\n",
       "      <th>MEAN_G_2S</th>\n",
       "      <th>MEAN_GS_2S</th>\n",
       "      <th>MEAN_FG%_PER_GAME_2S</th>\n",
       "      <th>MEAN_3P_PER_GAME_2S</th>\n",
       "      <th>MEAN_3P%_PER_GAME_2S</th>\n",
       "      <th>MEAN_FT%_PER_GAME_2S</th>\n",
       "      <th>...</th>\n",
       "      <th>HALL_OF_FAME</th>\n",
       "      <th>DRAFT_PICK</th>\n",
       "      <th>HEIGHT(cm)</th>\n",
       "      <th>AGE_ENTRANCE</th>\n",
       "      <th>IS_ACTIVE</th>\n",
       "      <th>C</th>\n",
       "      <th>PF</th>\n",
       "      <th>PG</th>\n",
       "      <th>SF</th>\n",
       "      <th>SG</th>\n",
       "    </tr>\n",
       "  </thead>\n",
       "  <tbody>\n",
       "    <tr>\n",
       "      <th>0</th>\n",
       "      <td>1.333333</td>\n",
       "      <td>3</td>\n",
       "      <td>0</td>\n",
       "      <td>1</td>\n",
       "      <td>15.0</td>\n",
       "      <td>0.0</td>\n",
       "      <td>0.3225</td>\n",
       "      <td>0.25</td>\n",
       "      <td>0.2750</td>\n",
       "      <td>0.250</td>\n",
       "      <td>...</td>\n",
       "      <td>0</td>\n",
       "      <td>60</td>\n",
       "      <td>195.58</td>\n",
       "      <td>23</td>\n",
       "      <td>0</td>\n",
       "      <td>0</td>\n",
       "      <td>0</td>\n",
       "      <td>0</td>\n",
       "      <td>0</td>\n",
       "      <td>1</td>\n",
       "    </tr>\n",
       "    <tr>\n",
       "      <th>1</th>\n",
       "      <td>1.571429</td>\n",
       "      <td>7</td>\n",
       "      <td>0</td>\n",
       "      <td>2</td>\n",
       "      <td>46.0</td>\n",
       "      <td>0.0</td>\n",
       "      <td>0.5140</td>\n",
       "      <td>0.05</td>\n",
       "      <td>0.3835</td>\n",
       "      <td>0.738</td>\n",
       "      <td>...</td>\n",
       "      <td>0</td>\n",
       "      <td>37</td>\n",
       "      <td>200.66</td>\n",
       "      <td>23</td>\n",
       "      <td>0</td>\n",
       "      <td>0</td>\n",
       "      <td>1</td>\n",
       "      <td>0</td>\n",
       "      <td>0</td>\n",
       "      <td>0</td>\n",
       "    </tr>\n",
       "    <tr>\n",
       "      <th>2</th>\n",
       "      <td>1.000000</td>\n",
       "      <td>1</td>\n",
       "      <td>0</td>\n",
       "      <td>1</td>\n",
       "      <td>19.0</td>\n",
       "      <td>3.0</td>\n",
       "      <td>0.3060</td>\n",
       "      <td>0.30</td>\n",
       "      <td>0.2610</td>\n",
       "      <td>1.000</td>\n",
       "      <td>...</td>\n",
       "      <td>0</td>\n",
       "      <td>-100</td>\n",
       "      <td>200.66</td>\n",
       "      <td>22</td>\n",
       "      <td>0</td>\n",
       "      <td>0</td>\n",
       "      <td>0</td>\n",
       "      <td>0</td>\n",
       "      <td>1</td>\n",
       "      <td>0</td>\n",
       "    </tr>\n",
       "    <tr>\n",
       "      <th>3</th>\n",
       "      <td>1.166667</td>\n",
       "      <td>6</td>\n",
       "      <td>0</td>\n",
       "      <td>1</td>\n",
       "      <td>15.5</td>\n",
       "      <td>0.0</td>\n",
       "      <td>0.4320</td>\n",
       "      <td>0.00</td>\n",
       "      <td>0.0000</td>\n",
       "      <td>0.581</td>\n",
       "      <td>...</td>\n",
       "      <td>0</td>\n",
       "      <td>-100</td>\n",
       "      <td>200.66</td>\n",
       "      <td>25</td>\n",
       "      <td>0</td>\n",
       "      <td>0</td>\n",
       "      <td>1</td>\n",
       "      <td>0</td>\n",
       "      <td>0</td>\n",
       "      <td>0</td>\n",
       "    </tr>\n",
       "    <tr>\n",
       "      <th>4</th>\n",
       "      <td>1.000000</td>\n",
       "      <td>1</td>\n",
       "      <td>0</td>\n",
       "      <td>1</td>\n",
       "      <td>3.0</td>\n",
       "      <td>0.0</td>\n",
       "      <td>0.5000</td>\n",
       "      <td>0.30</td>\n",
       "      <td>0.5000</td>\n",
       "      <td>0.000</td>\n",
       "      <td>...</td>\n",
       "      <td>0</td>\n",
       "      <td>-100</td>\n",
       "      <td>180.34</td>\n",
       "      <td>27</td>\n",
       "      <td>0</td>\n",
       "      <td>0</td>\n",
       "      <td>0</td>\n",
       "      <td>1</td>\n",
       "      <td>0</td>\n",
       "      <td>0</td>\n",
       "    </tr>\n",
       "  </tbody>\n",
       "</table>\n",
       "<p>5 rows × 47 columns</p>\n",
       "</div>"
      ],
      "text/plain": [
       "   MEAN_N_SEASONS_X_TEAM  N_TEAMS  N_NBA_CHAMPION  N_POSITIONS  MEAN_G_2S  \\\n",
       "0               1.333333        3               0            1       15.0   \n",
       "1               1.571429        7               0            2       46.0   \n",
       "2               1.000000        1               0            1       19.0   \n",
       "3               1.166667        6               0            1       15.5   \n",
       "4               1.000000        1               0            1        3.0   \n",
       "\n",
       "   MEAN_GS_2S  MEAN_FG%_PER_GAME_2S  MEAN_3P_PER_GAME_2S  \\\n",
       "0         0.0                0.3225                 0.25   \n",
       "1         0.0                0.5140                 0.05   \n",
       "2         3.0                0.3060                 0.30   \n",
       "3         0.0                0.4320                 0.00   \n",
       "4         0.0                0.5000                 0.30   \n",
       "\n",
       "   MEAN_3P%_PER_GAME_2S  MEAN_FT%_PER_GAME_2S  ...  HALL_OF_FAME  DRAFT_PICK  \\\n",
       "0                0.2750                 0.250  ...             0          60   \n",
       "1                0.3835                 0.738  ...             0          37   \n",
       "2                0.2610                 1.000  ...             0        -100   \n",
       "3                0.0000                 0.581  ...             0        -100   \n",
       "4                0.5000                 0.000  ...             0        -100   \n",
       "\n",
       "   HEIGHT(cm)  AGE_ENTRANCE  IS_ACTIVE  C  PF  PG  SF  SG  \n",
       "0      195.58            23          0  0   0   0   0   1  \n",
       "1      200.66            23          0  0   1   0   0   0  \n",
       "2      200.66            22          0  0   0   0   1   0  \n",
       "3      200.66            25          0  0   1   0   0   0  \n",
       "4      180.34            27          0  0   0   1   0   0  \n",
       "\n",
       "[5 rows x 47 columns]"
      ]
     },
     "execution_count": 14,
     "metadata": {},
     "output_type": "execute_result"
    }
   ],
   "source": [
    "regs_golden_record_1.head()"
   ]
  },
  {
   "cell_type": "code",
   "execution_count": 15,
   "id": "2d9b7dcd",
   "metadata": {},
   "outputs": [
    {
     "data": {
      "text/plain": [
       "Index([], dtype='object')"
      ]
     },
     "execution_count": 15,
     "metadata": {},
     "output_type": "execute_result"
    }
   ],
   "source": [
    "string_cols = regs_golden_record_1.columns[regs_golden_record_1.dtypes == object]\n",
    "string_cols"
   ]
  },
  {
   "cell_type": "markdown",
   "id": "7f59ed4e",
   "metadata": {},
   "source": [
    "Normalizamos los datos numéricos para poder usar el k-means"
   ]
  },
  {
   "cell_type": "code",
   "execution_count": 16,
   "id": "2e23802b",
   "metadata": {},
   "outputs": [
    {
     "data": {
      "text/plain": [
       "{'whiskers': [<matplotlib.lines.Line2D at 0x1e3e3a5e640>,\n",
       "  <matplotlib.lines.Line2D at 0x1e3e3a5e910>],\n",
       " 'caps': [<matplotlib.lines.Line2D at 0x1e3e3a5eca0>,\n",
       "  <matplotlib.lines.Line2D at 0x1e3e3a6c070>],\n",
       " 'boxes': [<matplotlib.lines.Line2D at 0x1e3e3a5e1f0>],\n",
       " 'medians': [<matplotlib.lines.Line2D at 0x1e3e3a6c400>],\n",
       " 'fliers': [<matplotlib.lines.Line2D at 0x1e3e3a6c790>],\n",
       " 'means': []}"
      ]
     },
     "execution_count": 16,
     "metadata": {},
     "output_type": "execute_result"
    },
    {
     "data": {
      "image/png": "[encoded data removed]",
      "text/plain": [
       "<Figure size 864x360 with 1 Axes>"
      ]
     },
     "metadata": {},
     "output_type": "display_data"
    }
   ],
   "source": [
    "numeric_col_name = 'MEAN_N_SEASONS_X_TEAM'\n",
    "\n",
    "subset = regs_golden_record_1[[numeric_col_name]]\n",
    "green_diamond = dict(markerfacecolor='g', marker='D')\n",
    "fig, ax = plt.subplots()\n",
    "\n",
    "ax.set_title('Boxplot by ' + numeric_col_name)\n",
    "ax.boxplot(subset, flierprops=green_diamond,labels=[numeric_col_name])"
   ]
  },
  {
   "cell_type": "code",
   "execution_count": 17,
   "id": "5beec977",
   "metadata": {},
   "outputs": [],
   "source": [
    "scaler = StandardScaler() #Standardize features by removing the mean and scaling to unit variance\n",
    "datanorm_RegS = scaler.fit_transform(regs_golden_record_1.astype(float))"
   ]
  },
  {
   "cell_type": "code",
   "execution_count": 18,
   "id": "e543997b",
   "metadata": {},
   "outputs": [
    {
     "data": {
      "text/plain": [
       "1155"
      ]
     },
     "execution_count": 18,
     "metadata": {},
     "output_type": "execute_result"
    }
   ],
   "source": [
    "len(datanorm_RegS)"
   ]
  },
  {
   "cell_type": "markdown",
   "id": "ed476c27",
   "metadata": {},
   "source": [
    "### 4.2.2 Playoff Golden Record"
   ]
  },
  {
   "cell_type": "markdown",
   "id": "c2559341",
   "metadata": {},
   "source": [
    "Analizamos los tipos de datos de las variables y tratamos las no numéricas"
   ]
  },
  {
   "cell_type": "code",
   "execution_count": 19,
   "id": "19cb13ed",
   "metadata": {},
   "outputs": [
    {
     "data": {
      "text/plain": [
       "URL                                 object\n",
       "MEAN_N_SEASONS_X_TEAM              float64\n",
       "N_TEAMS                              int64\n",
       "N_NBA_CHAMPION                       int64\n",
       "N_POSITIONS                          int64\n",
       "COMMON_POSITION                     object\n",
       "MEAN_G_2S                          float64\n",
       "MEAN_GS_2S                         float64\n",
       "MEAN_FG%_PER_GAME_2S               float64\n",
       "MEAN_3P_PER_GAME_2S                float64\n",
       "MEAN_3P%_PER_GAME_2S               float64\n",
       "MEAN_FT%_PER_GAME_2S               float64\n",
       "MEAN_ORB_PER_GAME_2S               float64\n",
       "MEAN_AST_PER_GAME_2S               float64\n",
       "MEAN_FTr_2S                        float64\n",
       "MEAN_ORB%_2S                       float64\n",
       "MEAN_DRB%_2S                       float64\n",
       "MEAN_STL%_2S                       float64\n",
       "MEAN_TOV%_2S                       float64\n",
       "MEAN_USG%_2S                       float64\n",
       "MEAN_OWS_2S                        float64\n",
       "MEAN_DBPM_2S                       float64\n",
       "MEAN_OFF_TEAM_RTG_2S               float64\n",
       "MEAN_DEFF_TEAM_RTG_2S              float64\n",
       "MEAN_W/L%_TEAM_SGFCT               float64\n",
       "ALL_STAR                             int64\n",
       "ROY                                  int64\n",
       "HALL_OF_FAME                         int64\n",
       "DRAFT_PICK                           int64\n",
       "AGE_ENTRANCE                         int64\n",
       "IS_ACTIVE                            int64\n",
       "N_PLAYOFFS                           int64\n",
       "MEAN_G_PLAYOFF_1stPO               float64\n",
       "MEAN_GS_PLAYOFF_1stPO              float64\n",
       "MEAN_FG%_PER_GAME_PLAYOFF_1stPO    float64\n",
       "MEAN_FT%_PER_GAME_PLAYOFF_1stPO    float64\n",
       "MEAN_3P%_PER_GAME_PLAYOFF_1stPO    float64\n",
       "MEAN_FTr_PLAYOFF_1stPO             float64\n",
       "MEAN_ORB%_PLAYOFF_1stPO            float64\n",
       "MEAN_DRB%_PLAYOFF_1stPO            float64\n",
       "MEAN_AST%_PLAYOFF_1stPO            float64\n",
       "MEAN_STL%_PLAYOFF_1stPO            float64\n",
       "MEAN_BLK%_PLAYOFF_1stPO            float64\n",
       "MEAN_TOV%_PLAYOFF_1stPO            float64\n",
       "MEAN_USG%_PLAYOFF_1stPO            float64\n",
       "MEAN_OWS_PLAYOFF_1stPO             float64\n",
       "MEAN_OBPM_PLAYOFF_1stPO            float64\n",
       "MEAN_DBPM_PLAYOFF_1stPO            float64\n",
       "dtype: object"
      ]
     },
     "execution_count": 19,
     "metadata": {},
     "output_type": "execute_result"
    }
   ],
   "source": [
    "playoff_golden_record.dtypes"
   ]
  },
  {
   "cell_type": "code",
   "execution_count": 20,
   "id": "de04b413",
   "metadata": {},
   "outputs": [
    {
     "data": {
      "text/plain": [
       "Index(['URL', 'COMMON_POSITION'], dtype='object')"
      ]
     },
     "execution_count": 20,
     "metadata": {},
     "output_type": "execute_result"
    }
   ],
   "source": [
    "string_cols = playoff_golden_record.columns[playoff_golden_record.dtypes == object]\n",
    "string_cols"
   ]
  },
  {
   "cell_type": "markdown",
   "id": "d881971b",
   "metadata": {},
   "source": [
    "Exploramos la variable *COMMON_POSITION*"
   ]
  },
  {
   "cell_type": "code",
   "execution_count": 21,
   "id": "08b825a6",
   "metadata": {},
   "outputs": [
    {
     "name": "stdout",
     "output_type": "stream",
     "text": [
      "To much categories in column URL\n",
      "Distribution for column COMMON_POSITION:\n",
      "SG    279\n",
      "PF    264\n",
      "PG    251\n",
      "SF    248\n",
      "C     239\n",
      "Name: COMMON_POSITION, dtype: int64\n"
     ]
    }
   ],
   "source": [
    "for i in string_cols:\n",
    "    if len(playoff_golden_record[i].unique())<10:\n",
    "        print('Distribution for column ' + i + ':')\n",
    "        print(playoff_golden_record[i].value_counts())\n",
    "    else:\n",
    "        print('To much categories in column ' + i)"
   ]
  },
  {
   "cell_type": "code",
   "execution_count": 22,
   "id": "04e8e5f5",
   "metadata": {},
   "outputs": [
    {
     "data": {
      "text/plain": [
       "<AxesSubplot:>"
      ]
     },
     "execution_count": 22,
     "metadata": {},
     "output_type": "execute_result"
    },
    {
     "data": {
      "image/png": "[encoded data removed]",
      "text/plain": [
       "<Figure size 864x360 with 1 Axes>"
      ]
     },
     "metadata": {},
     "output_type": "display_data"
    }
   ],
   "source": [
    "playoff_golden_record['COMMON_POSITION'].hist()"
   ]
  },
  {
   "cell_type": "markdown",
   "id": "fde94a5d",
   "metadata": {},
   "source": [
    "Transformamos la variable *COMMON_POSITION* mediante One Hot Encoding y eliminamos la variable *URL*"
   ]
  },
  {
   "cell_type": "code",
   "execution_count": 23,
   "id": "4b82e86b",
   "metadata": {},
   "outputs": [],
   "source": [
    "cols_to_drop = ['URL']\n",
    "playoff_golden_record_0 = playoff_golden_record[[c for c in playoff_golden_record.columns if c not in cols_to_drop]]"
   ]
  },
  {
   "cell_type": "code",
   "execution_count": 24,
   "id": "525acedf",
   "metadata": {},
   "outputs": [],
   "source": [
    "playoff_golden_record_1 = playoff_golden_record_0.copy()\n",
    "\n",
    "playoff_golden_record_1 = pd.get_dummies(playoff_golden_record_1,prefix='',prefix_sep='')#,prefix='OHE'"
   ]
  },
  {
   "cell_type": "code",
   "execution_count": 25,
   "id": "791e0d1b",
   "metadata": {},
   "outputs": [
    {
     "data": {
      "text/html": [
       "<div>\n",
       "<style scoped>\n",
       "    .dataframe tbody tr th:only-of-type {\n",
       "        vertical-align: middle;\n",
       "    }\n",
       "\n",
       "    .dataframe tbody tr th {\n",
       "        vertical-align: top;\n",
       "    }\n",
       "\n",
       "    .dataframe thead th {\n",
       "        text-align: right;\n",
       "    }\n",
       "</style>\n",
       "<table border=\"1\" class=\"dataframe\">\n",
       "  <thead>\n",
       "    <tr style=\"text-align: right;\">\n",
       "      <th></th>\n",
       "      <th>MEAN_N_SEASONS_X_TEAM</th>\n",
       "      <th>N_TEAMS</th>\n",
       "      <th>N_NBA_CHAMPION</th>\n",
       "      <th>N_POSITIONS</th>\n",
       "      <th>MEAN_G_2S</th>\n",
       "      <th>MEAN_GS_2S</th>\n",
       "      <th>MEAN_FG%_PER_GAME_2S</th>\n",
       "      <th>MEAN_3P_PER_GAME_2S</th>\n",
       "      <th>MEAN_3P%_PER_GAME_2S</th>\n",
       "      <th>MEAN_FT%_PER_GAME_2S</th>\n",
       "      <th>...</th>\n",
       "      <th>MEAN_TOV%_PLAYOFF_1stPO</th>\n",
       "      <th>MEAN_USG%_PLAYOFF_1stPO</th>\n",
       "      <th>MEAN_OWS_PLAYOFF_1stPO</th>\n",
       "      <th>MEAN_OBPM_PLAYOFF_1stPO</th>\n",
       "      <th>MEAN_DBPM_PLAYOFF_1stPO</th>\n",
       "      <th>C</th>\n",
       "      <th>PF</th>\n",
       "      <th>PG</th>\n",
       "      <th>SF</th>\n",
       "      <th>SG</th>\n",
       "    </tr>\n",
       "  </thead>\n",
       "  <tbody>\n",
       "    <tr>\n",
       "      <th>0</th>\n",
       "      <td>1.8</td>\n",
       "      <td>5</td>\n",
       "      <td>0</td>\n",
       "      <td>1</td>\n",
       "      <td>57.0</td>\n",
       "      <td>0.5</td>\n",
       "      <td>0.4835</td>\n",
       "      <td>0.00</td>\n",
       "      <td>0.0000</td>\n",
       "      <td>0.6600</td>\n",
       "      <td>...</td>\n",
       "      <td>0.0</td>\n",
       "      <td>19.8</td>\n",
       "      <td>0.0</td>\n",
       "      <td>-2.6</td>\n",
       "      <td>-4.6</td>\n",
       "      <td>0</td>\n",
       "      <td>1</td>\n",
       "      <td>0</td>\n",
       "      <td>0</td>\n",
       "      <td>0</td>\n",
       "    </tr>\n",
       "    <tr>\n",
       "      <th>1</th>\n",
       "      <td>3.0</td>\n",
       "      <td>3</td>\n",
       "      <td>0</td>\n",
       "      <td>1</td>\n",
       "      <td>74.0</td>\n",
       "      <td>15.0</td>\n",
       "      <td>0.4170</td>\n",
       "      <td>0.40</td>\n",
       "      <td>0.2850</td>\n",
       "      <td>0.8635</td>\n",
       "      <td>...</td>\n",
       "      <td>7.7</td>\n",
       "      <td>24.8</td>\n",
       "      <td>0.2</td>\n",
       "      <td>-0.8</td>\n",
       "      <td>-1.9</td>\n",
       "      <td>0</td>\n",
       "      <td>0</td>\n",
       "      <td>1</td>\n",
       "      <td>0</td>\n",
       "      <td>0</td>\n",
       "    </tr>\n",
       "    <tr>\n",
       "      <th>2</th>\n",
       "      <td>2.0</td>\n",
       "      <td>5</td>\n",
       "      <td>0</td>\n",
       "      <td>1</td>\n",
       "      <td>54.0</td>\n",
       "      <td>32.5</td>\n",
       "      <td>0.4190</td>\n",
       "      <td>0.10</td>\n",
       "      <td>0.2485</td>\n",
       "      <td>0.6815</td>\n",
       "      <td>...</td>\n",
       "      <td>7.0</td>\n",
       "      <td>20.0</td>\n",
       "      <td>0.3</td>\n",
       "      <td>2.6</td>\n",
       "      <td>1.9</td>\n",
       "      <td>0</td>\n",
       "      <td>0</td>\n",
       "      <td>0</td>\n",
       "      <td>0</td>\n",
       "      <td>1</td>\n",
       "    </tr>\n",
       "    <tr>\n",
       "      <th>3</th>\n",
       "      <td>2.8</td>\n",
       "      <td>5</td>\n",
       "      <td>0</td>\n",
       "      <td>3</td>\n",
       "      <td>81.0</td>\n",
       "      <td>76.5</td>\n",
       "      <td>0.4690</td>\n",
       "      <td>0.20</td>\n",
       "      <td>0.3355</td>\n",
       "      <td>0.7650</td>\n",
       "      <td>...</td>\n",
       "      <td>20.8</td>\n",
       "      <td>22.8</td>\n",
       "      <td>0.0</td>\n",
       "      <td>-3.5</td>\n",
       "      <td>-1.9</td>\n",
       "      <td>0</td>\n",
       "      <td>1</td>\n",
       "      <td>0</td>\n",
       "      <td>0</td>\n",
       "      <td>0</td>\n",
       "    </tr>\n",
       "    <tr>\n",
       "      <th>4</th>\n",
       "      <td>3.0</td>\n",
       "      <td>1</td>\n",
       "      <td>0</td>\n",
       "      <td>1</td>\n",
       "      <td>71.5</td>\n",
       "      <td>7.0</td>\n",
       "      <td>0.3940</td>\n",
       "      <td>1.25</td>\n",
       "      <td>0.3805</td>\n",
       "      <td>0.8730</td>\n",
       "      <td>...</td>\n",
       "      <td>0.0</td>\n",
       "      <td>13.3</td>\n",
       "      <td>0.1</td>\n",
       "      <td>-2.8</td>\n",
       "      <td>-1.9</td>\n",
       "      <td>0</td>\n",
       "      <td>0</td>\n",
       "      <td>0</td>\n",
       "      <td>0</td>\n",
       "      <td>1</td>\n",
       "    </tr>\n",
       "  </tbody>\n",
       "</table>\n",
       "<p>5 rows × 51 columns</p>\n",
       "</div>"
      ],
      "text/plain": [
       "   MEAN_N_SEASONS_X_TEAM  N_TEAMS  N_NBA_CHAMPION  N_POSITIONS  MEAN_G_2S  \\\n",
       "0                    1.8        5               0            1       57.0   \n",
       "1                    3.0        3               0            1       74.0   \n",
       "2                    2.0        5               0            1       54.0   \n",
       "3                    2.8        5               0            3       81.0   \n",
       "4                    3.0        1               0            1       71.5   \n",
       "\n",
       "   MEAN_GS_2S  MEAN_FG%_PER_GAME_2S  MEAN_3P_PER_GAME_2S  \\\n",
       "0         0.5                0.4835                 0.00   \n",
       "1        15.0                0.4170                 0.40   \n",
       "2        32.5                0.4190                 0.10   \n",
       "3        76.5                0.4690                 0.20   \n",
       "4         7.0                0.3940                 1.25   \n",
       "\n",
       "   MEAN_3P%_PER_GAME_2S  MEAN_FT%_PER_GAME_2S  ...  MEAN_TOV%_PLAYOFF_1stPO  \\\n",
       "0                0.0000                0.6600  ...                      0.0   \n",
       "1                0.2850                0.8635  ...                      7.7   \n",
       "2                0.2485                0.6815  ...                      7.0   \n",
       "3                0.3355                0.7650  ...                     20.8   \n",
       "4                0.3805                0.8730  ...                      0.0   \n",
       "\n",
       "   MEAN_USG%_PLAYOFF_1stPO  MEAN_OWS_PLAYOFF_1stPO  MEAN_OBPM_PLAYOFF_1stPO  \\\n",
       "0                     19.8                     0.0                     -2.6   \n",
       "1                     24.8                     0.2                     -0.8   \n",
       "2                     20.0                     0.3                      2.6   \n",
       "3                     22.8                     0.0                     -3.5   \n",
       "4                     13.3                     0.1                     -2.8   \n",
       "\n",
       "   MEAN_DBPM_PLAYOFF_1stPO  C  PF  PG  SF  SG  \n",
       "0                     -4.6  0   1   0   0   0  \n",
       "1                     -1.9  0   0   1   0   0  \n",
       "2                      1.9  0   0   0   0   1  \n",
       "3                     -1.9  0   1   0   0   0  \n",
       "4                     -1.9  0   0   0   0   1  \n",
       "\n",
       "[5 rows x 51 columns]"
      ]
     },
     "execution_count": 25,
     "metadata": {},
     "output_type": "execute_result"
    }
   ],
   "source": [
    "playoff_golden_record_1.head()"
   ]
  },
  {
   "cell_type": "code",
   "execution_count": 26,
   "id": "7dc4dd47",
   "metadata": {},
   "outputs": [
    {
     "data": {
      "text/plain": [
       "Index([], dtype='object')"
      ]
     },
     "execution_count": 26,
     "metadata": {},
     "output_type": "execute_result"
    }
   ],
   "source": [
    "string_cols = playoff_golden_record_1.columns[playoff_golden_record_1.dtypes == object]\n",
    "string_cols"
   ]
  },
  {
   "cell_type": "markdown",
   "id": "4e768af8",
   "metadata": {},
   "source": [
    "Normalizamos los datos numéricos para poder usar el k-means"
   ]
  },
  {
   "cell_type": "code",
   "execution_count": 27,
   "id": "6a6caa3b",
   "metadata": {},
   "outputs": [
    {
     "data": {
      "text/plain": [
       "{'whiskers': [<matplotlib.lines.Line2D at 0x1e3e3b4af40>,\n",
       "  <matplotlib.lines.Line2D at 0x1e3e3bda310>],\n",
       " 'caps': [<matplotlib.lines.Line2D at 0x1e3e3bda580>,\n",
       "  <matplotlib.lines.Line2D at 0x1e3e3bda910>],\n",
       " 'boxes': [<matplotlib.lines.Line2D at 0x1e3e3b4abb0>],\n",
       " 'medians': [<matplotlib.lines.Line2D at 0x1e3e3bdaca0>],\n",
       " 'fliers': [<matplotlib.lines.Line2D at 0x1e3e3be6070>],\n",
       " 'means': []}"
      ]
     },
     "execution_count": 27,
     "metadata": {},
     "output_type": "execute_result"
    },
    {
     "data": {
      "image/png": "[encoded data removed]",
      "text/plain": [
       "<Figure size 864x360 with 1 Axes>"
      ]
     },
     "metadata": {},
     "output_type": "display_data"
    }
   ],
   "source": [
    "numeric_col_name = 'MEAN_N_SEASONS_X_TEAM' #se puede jugar con esta variable\n",
    "\n",
    "subset = playoff_golden_record_1[[numeric_col_name]]\n",
    "green_diamond = dict(markerfacecolor='g', marker='D')\n",
    "fig, ax = plt.subplots()\n",
    "\n",
    "ax.set_title('Boxplot by ' + numeric_col_name)\n",
    "ax.boxplot(subset, flierprops=green_diamond,labels=[numeric_col_name])"
   ]
  },
  {
   "cell_type": "code",
   "execution_count": 28,
   "id": "43e71fef",
   "metadata": {},
   "outputs": [],
   "source": [
    "scaler = StandardScaler() #Standardize features by removing the mean and scaling to unit variance\n",
    "datanorm_playoff = scaler.fit_transform(playoff_golden_record_1.astype(float))"
   ]
  },
  {
   "cell_type": "code",
   "execution_count": 29,
   "id": "26a2863c",
   "metadata": {},
   "outputs": [
    {
     "data": {
      "text/plain": [
       "1281"
      ]
     },
     "execution_count": 29,
     "metadata": {},
     "output_type": "execute_result"
    }
   ],
   "source": [
    "len(datanorm_playoff)"
   ]
  },
  {
   "cell_type": "markdown",
   "id": "94b3a3b8",
   "metadata": {},
   "source": [
    "### 4.2.2 Ring Golden Record"
   ]
  },
  {
   "cell_type": "markdown",
   "id": "6d6449c8",
   "metadata": {},
   "source": [
    "Analizamos los tipos de datos de las variables y tratamos las no numéricas"
   ]
  },
  {
   "cell_type": "code",
   "execution_count": 30,
   "id": "29496196",
   "metadata": {},
   "outputs": [
    {
     "data": {
      "text/plain": [
       "URL                                 object\n",
       "MEAN_G_RING                        float64\n",
       "MEAN_GS_RING                       float64\n",
       "MEAN_FG%_PER_GAME_RING             float64\n",
       "MEAN_3P_PER_GAME_RING              float64\n",
       "MEAN_3P%_PER_GAME_RING             float64\n",
       "MEAN_FT%_PER_GAME_RING             float64\n",
       "MEAN_ORB_PER_GAME_RING             float64\n",
       "MEAN_FTr_RING                      float64\n",
       "MEAN_DRB%_RING                     float64\n",
       "MEAN_STL%_RING                     float64\n",
       "MEAN_TOV%_RING                     float64\n",
       "MEAN_USG%_RING                     float64\n",
       "MEAN_DBPM_RING                     float64\n",
       "MEAN_OFF_TEAM_RTG_RING             float64\n",
       "MEAN_W/L%_TEAM_RING                float64\n",
       "MEAN_G_PLAYOFF_1stPO               float64\n",
       "MEAN_GS_PLAYOFF_1stPO              float64\n",
       "MEAN_FG%_PER_GAME_PLAYOFF_1stPO    float64\n",
       "MEAN_FT%_PER_GAME_PLAYOFF_1stPO    float64\n",
       "MEAN_3P%_PER_GAME_PLAYOFF_1stPO    float64\n",
       "MEAN_FTr_PLAYOFF_1stPO             float64\n",
       "MEAN_ORB%_PLAYOFF_1stPO            float64\n",
       "MEAN_DRB%_PLAYOFF_1stPO            float64\n",
       "MEAN_STL%_PLAYOFF_1stPO            float64\n",
       "MEAN_TOV%_PLAYOFF_1stPO            float64\n",
       "MEAN_USG%_PLAYOFF_1stPO            float64\n",
       "MEAN_OWS_PLAYOFF_1stPO             float64\n",
       "MEAN_G_PLAYOFF_SGFCT               float64\n",
       "MEAN_N_SEASONS_X_TEAM              float64\n",
       "N_TEAMS                              int64\n",
       "N_NBA_CHAMPION                       int64\n",
       "N_POSITIONS                          int64\n",
       "COMMON_POSITION                     object\n",
       "MEAN_G_2S                          float64\n",
       "MEAN_FG%_PER_GAME_2S               float64\n",
       "MEAN_FT%_PER_GAME_2S               float64\n",
       "MEAN_BLK%_2S                       float64\n",
       "MEAN_TOV%_2S                       float64\n",
       "MEAN_USG%_2S                       float64\n",
       "MEAN_OFF_TEAM_RTG_2S               float64\n",
       "MEAN_DEFF_TEAM_RTG_2S              float64\n",
       "MEAN_OFF_TEAM_RTG_SGFCT            float64\n",
       "ROY                                  int64\n",
       "DRAFT_PICK                           int64\n",
       "AGE_ENTRANCE                         int64\n",
       "IS_ACTIVE                            int64\n",
       "dtype: object"
      ]
     },
     "execution_count": 30,
     "metadata": {},
     "output_type": "execute_result"
    }
   ],
   "source": [
    "ring_golden_record.dtypes"
   ]
  },
  {
   "cell_type": "code",
   "execution_count": 31,
   "id": "ac11e12b",
   "metadata": {},
   "outputs": [
    {
     "data": {
      "text/plain": [
       "Index(['URL', 'COMMON_POSITION'], dtype='object')"
      ]
     },
     "execution_count": 31,
     "metadata": {},
     "output_type": "execute_result"
    }
   ],
   "source": [
    "string_cols = ring_golden_record.columns[ring_golden_record.dtypes == object]\n",
    "string_cols"
   ]
  },
  {
   "cell_type": "markdown",
   "id": "54e6c4d7",
   "metadata": {},
   "source": [
    "Exploramos la variable *COMMON_POSITION*"
   ]
  },
  {
   "cell_type": "code",
   "execution_count": 32,
   "id": "a73897b1",
   "metadata": {},
   "outputs": [
    {
     "name": "stdout",
     "output_type": "stream",
     "text": [
      "To much categories in column URL\n",
      "Distribution for column COMMON_POSITION:\n",
      "C     73\n",
      "PF    68\n",
      "SG    67\n",
      "SF    67\n",
      "PG    64\n",
      "Name: COMMON_POSITION, dtype: int64\n"
     ]
    }
   ],
   "source": [
    "for i in string_cols:\n",
    "    if len(ring_golden_record[i].unique())<10:\n",
    "        print('Distribution for column ' + i + ':')\n",
    "        print(ring_golden_record[i].value_counts())\n",
    "    else:\n",
    "        print('To much categories in column ' + i)"
   ]
  },
  {
   "cell_type": "code",
   "execution_count": 33,
   "id": "8fa6fe97",
   "metadata": {},
   "outputs": [
    {
     "data": {
      "text/plain": [
       "<AxesSubplot:>"
      ]
     },
     "execution_count": 33,
     "metadata": {},
     "output_type": "execute_result"
    },
    {
     "data": {
      "image/png": "[encoded data removed]",
      "text/plain": [
       "<Figure size 864x360 with 1 Axes>"
      ]
     },
     "metadata": {},
     "output_type": "display_data"
    }
   ],
   "source": [
    "ring_golden_record['COMMON_POSITION'].hist()"
   ]
  },
  {
   "cell_type": "markdown",
   "id": "fc5490fa",
   "metadata": {},
   "source": [
    "Transformamos la variable *COMMON_POSITION* mediante One Hot Encoding y eliminamos la variable *URL*"
   ]
  },
  {
   "cell_type": "code",
   "execution_count": 34,
   "id": "6e01ecef",
   "metadata": {},
   "outputs": [],
   "source": [
    "cols_to_drop = ['URL']\n",
    "ring_golden_record_0 = ring_golden_record[[c for c in ring_golden_record.columns if c not in cols_to_drop]]"
   ]
  },
  {
   "cell_type": "code",
   "execution_count": 35,
   "id": "42510164",
   "metadata": {},
   "outputs": [],
   "source": [
    "ring_golden_record_1 = ring_golden_record_0.copy()\n",
    "\n",
    "ring_golden_record_1 = pd.get_dummies(ring_golden_record_1,prefix='',prefix_sep='')#,prefix='OHE'"
   ]
  },
  {
   "cell_type": "code",
   "execution_count": 36,
   "id": "cdaf9ee2",
   "metadata": {},
   "outputs": [
    {
     "data": {
      "text/html": [
       "<div>\n",
       "<style scoped>\n",
       "    .dataframe tbody tr th:only-of-type {\n",
       "        vertical-align: middle;\n",
       "    }\n",
       "\n",
       "    .dataframe tbody tr th {\n",
       "        vertical-align: top;\n",
       "    }\n",
       "\n",
       "    .dataframe thead th {\n",
       "        text-align: right;\n",
       "    }\n",
       "</style>\n",
       "<table border=\"1\" class=\"dataframe\">\n",
       "  <thead>\n",
       "    <tr style=\"text-align: right;\">\n",
       "      <th></th>\n",
       "      <th>MEAN_G_RING</th>\n",
       "      <th>MEAN_GS_RING</th>\n",
       "      <th>MEAN_FG%_PER_GAME_RING</th>\n",
       "      <th>MEAN_3P_PER_GAME_RING</th>\n",
       "      <th>MEAN_3P%_PER_GAME_RING</th>\n",
       "      <th>MEAN_FT%_PER_GAME_RING</th>\n",
       "      <th>MEAN_ORB_PER_GAME_RING</th>\n",
       "      <th>MEAN_FTr_RING</th>\n",
       "      <th>MEAN_DRB%_RING</th>\n",
       "      <th>MEAN_STL%_RING</th>\n",
       "      <th>...</th>\n",
       "      <th>MEAN_OFF_TEAM_RTG_SGFCT</th>\n",
       "      <th>ROY</th>\n",
       "      <th>DRAFT_PICK</th>\n",
       "      <th>AGE_ENTRANCE</th>\n",
       "      <th>IS_ACTIVE</th>\n",
       "      <th>C</th>\n",
       "      <th>PF</th>\n",
       "      <th>PG</th>\n",
       "      <th>SF</th>\n",
       "      <th>SG</th>\n",
       "    </tr>\n",
       "  </thead>\n",
       "  <tbody>\n",
       "    <tr>\n",
       "      <th>0</th>\n",
       "      <td>7.0</td>\n",
       "      <td>0.0</td>\n",
       "      <td>0.125</td>\n",
       "      <td>0.00</td>\n",
       "      <td>0.0000</td>\n",
       "      <td>0.0000</td>\n",
       "      <td>0.00</td>\n",
       "      <td>0.0000</td>\n",
       "      <td>16.9</td>\n",
       "      <td>0.0</td>\n",
       "      <td>...</td>\n",
       "      <td>108.100000</td>\n",
       "      <td>0</td>\n",
       "      <td>-100</td>\n",
       "      <td>23</td>\n",
       "      <td>0</td>\n",
       "      <td>0</td>\n",
       "      <td>0</td>\n",
       "      <td>1</td>\n",
       "      <td>0</td>\n",
       "      <td>0</td>\n",
       "    </tr>\n",
       "    <tr>\n",
       "      <th>1</th>\n",
       "      <td>26.0</td>\n",
       "      <td>3.0</td>\n",
       "      <td>0.323</td>\n",
       "      <td>0.10</td>\n",
       "      <td>0.1580</td>\n",
       "      <td>0.5000</td>\n",
       "      <td>0.20</td>\n",
       "      <td>0.1850</td>\n",
       "      <td>6.3</td>\n",
       "      <td>0.0</td>\n",
       "      <td>...</td>\n",
       "      <td>108.450000</td>\n",
       "      <td>0</td>\n",
       "      <td>28</td>\n",
       "      <td>23</td>\n",
       "      <td>0</td>\n",
       "      <td>0</td>\n",
       "      <td>0</td>\n",
       "      <td>0</td>\n",
       "      <td>0</td>\n",
       "      <td>1</td>\n",
       "    </tr>\n",
       "    <tr>\n",
       "      <th>2</th>\n",
       "      <td>10.0</td>\n",
       "      <td>2.0</td>\n",
       "      <td>0.375</td>\n",
       "      <td>0.30</td>\n",
       "      <td>0.4290</td>\n",
       "      <td>0.6670</td>\n",
       "      <td>0.50</td>\n",
       "      <td>0.0940</td>\n",
       "      <td>18.0</td>\n",
       "      <td>2.1</td>\n",
       "      <td>...</td>\n",
       "      <td>106.480000</td>\n",
       "      <td>0</td>\n",
       "      <td>-100</td>\n",
       "      <td>21</td>\n",
       "      <td>0</td>\n",
       "      <td>1</td>\n",
       "      <td>0</td>\n",
       "      <td>0</td>\n",
       "      <td>0</td>\n",
       "      <td>0</td>\n",
       "    </tr>\n",
       "    <tr>\n",
       "      <th>3</th>\n",
       "      <td>73.0</td>\n",
       "      <td>16.0</td>\n",
       "      <td>0.480</td>\n",
       "      <td>0.00</td>\n",
       "      <td>0.5000</td>\n",
       "      <td>0.9200</td>\n",
       "      <td>0.90</td>\n",
       "      <td>0.0760</td>\n",
       "      <td>13.6</td>\n",
       "      <td>0.9</td>\n",
       "      <td>...</td>\n",
       "      <td>104.525000</td>\n",
       "      <td>0</td>\n",
       "      <td>-100</td>\n",
       "      <td>24</td>\n",
       "      <td>0</td>\n",
       "      <td>0</td>\n",
       "      <td>1</td>\n",
       "      <td>0</td>\n",
       "      <td>0</td>\n",
       "      <td>0</td>\n",
       "    </tr>\n",
       "    <tr>\n",
       "      <th>4</th>\n",
       "      <td>76.0</td>\n",
       "      <td>36.5</td>\n",
       "      <td>0.447</td>\n",
       "      <td>2.15</td>\n",
       "      <td>0.4085</td>\n",
       "      <td>0.8965</td>\n",
       "      <td>0.75</td>\n",
       "      <td>0.2415</td>\n",
       "      <td>9.2</td>\n",
       "      <td>1.5</td>\n",
       "      <td>...</td>\n",
       "      <td>107.958824</td>\n",
       "      <td>0</td>\n",
       "      <td>5</td>\n",
       "      <td>22</td>\n",
       "      <td>0</td>\n",
       "      <td>0</td>\n",
       "      <td>0</td>\n",
       "      <td>0</td>\n",
       "      <td>0</td>\n",
       "      <td>1</td>\n",
       "    </tr>\n",
       "  </tbody>\n",
       "</table>\n",
       "<p>5 rows × 50 columns</p>\n",
       "</div>"
      ],
      "text/plain": [
       "   MEAN_G_RING  MEAN_GS_RING  MEAN_FG%_PER_GAME_RING  MEAN_3P_PER_GAME_RING  \\\n",
       "0          7.0           0.0                   0.125                   0.00   \n",
       "1         26.0           3.0                   0.323                   0.10   \n",
       "2         10.0           2.0                   0.375                   0.30   \n",
       "3         73.0          16.0                   0.480                   0.00   \n",
       "4         76.0          36.5                   0.447                   2.15   \n",
       "\n",
       "   MEAN_3P%_PER_GAME_RING  MEAN_FT%_PER_GAME_RING  MEAN_ORB_PER_GAME_RING  \\\n",
       "0                  0.0000                  0.0000                    0.00   \n",
       "1                  0.1580                  0.5000                    0.20   \n",
       "2                  0.4290                  0.6670                    0.50   \n",
       "3                  0.5000                  0.9200                    0.90   \n",
       "4                  0.4085                  0.8965                    0.75   \n",
       "\n",
       "   MEAN_FTr_RING  MEAN_DRB%_RING  MEAN_STL%_RING  ...  \\\n",
       "0         0.0000            16.9             0.0  ...   \n",
       "1         0.1850             6.3             0.0  ...   \n",
       "2         0.0940            18.0             2.1  ...   \n",
       "3         0.0760            13.6             0.9  ...   \n",
       "4         0.2415             9.2             1.5  ...   \n",
       "\n",
       "   MEAN_OFF_TEAM_RTG_SGFCT  ROY  DRAFT_PICK  AGE_ENTRANCE  IS_ACTIVE  C  PF  \\\n",
       "0               108.100000    0        -100            23          0  0   0   \n",
       "1               108.450000    0          28            23          0  0   0   \n",
       "2               106.480000    0        -100            21          0  1   0   \n",
       "3               104.525000    0        -100            24          0  0   1   \n",
       "4               107.958824    0           5            22          0  0   0   \n",
       "\n",
       "   PG  SF  SG  \n",
       "0   1   0   0  \n",
       "1   0   0   1  \n",
       "2   0   0   0  \n",
       "3   0   0   0  \n",
       "4   0   0   1  \n",
       "\n",
       "[5 rows x 50 columns]"
      ]
     },
     "execution_count": 36,
     "metadata": {},
     "output_type": "execute_result"
    }
   ],
   "source": [
    "ring_golden_record_1.head()"
   ]
  },
  {
   "cell_type": "code",
   "execution_count": 37,
   "id": "5422c68b",
   "metadata": {},
   "outputs": [
    {
     "data": {
      "text/plain": [
       "Index([], dtype='object')"
      ]
     },
     "execution_count": 37,
     "metadata": {},
     "output_type": "execute_result"
    }
   ],
   "source": [
    "string_cols = ring_golden_record_1.columns[ring_golden_record_1.dtypes == object]\n",
    "string_cols"
   ]
  },
  {
   "cell_type": "markdown",
   "id": "ccd1b9fc",
   "metadata": {},
   "source": [
    "Normalizamos los datos numéricos para poder usar el k-means"
   ]
  },
  {
   "cell_type": "code",
   "execution_count": 38,
   "id": "4ef2513f",
   "metadata": {},
   "outputs": [
    {
     "data": {
      "text/plain": [
       "{'whiskers': [<matplotlib.lines.Line2D at 0x1e3e3cd0730>,\n",
       "  <matplotlib.lines.Line2D at 0x1e3e3cd0af0>],\n",
       " 'caps': [<matplotlib.lines.Line2D at 0x1e3e3cd0d60>,\n",
       "  <matplotlib.lines.Line2D at 0x1e3e3cde130>],\n",
       " 'boxes': [<matplotlib.lines.Line2D at 0x1e3e3cd03a0>],\n",
       " 'medians': [<matplotlib.lines.Line2D at 0x1e3e3cde4c0>],\n",
       " 'fliers': [<matplotlib.lines.Line2D at 0x1e3e3cde850>],\n",
       " 'means': []}"
      ]
     },
     "execution_count": 38,
     "metadata": {},
     "output_type": "execute_result"
    },
    {
     "data": {
      "image/png": "[encoded data removed]",
      "text/plain": [
       "<Figure size 864x360 with 1 Axes>"
      ]
     },
     "metadata": {},
     "output_type": "display_data"
    }
   ],
   "source": [
    "numeric_col_name = 'MEAN_N_SEASONS_X_TEAM' #se puede jugar con esta variable\n",
    "\n",
    "subset = ring_golden_record_1[[numeric_col_name]]\n",
    "green_diamond = dict(markerfacecolor='g', marker='D')\n",
    "fig, ax = plt.subplots()\n",
    "\n",
    "ax.set_title('Boxplot by ' + numeric_col_name)\n",
    "ax.boxplot(subset, flierprops=green_diamond,labels=[numeric_col_name])"
   ]
  },
  {
   "cell_type": "code",
   "execution_count": 39,
   "id": "a40b317c",
   "metadata": {},
   "outputs": [],
   "source": [
    "scaler = StandardScaler() #Standardize features by removing the mean and scaling to unit variance\n",
    "datanorm_ring = scaler.fit_transform(ring_golden_record_1.astype(float))"
   ]
  },
  {
   "cell_type": "code",
   "execution_count": 40,
   "id": "f2373280",
   "metadata": {},
   "outputs": [
    {
     "data": {
      "text/plain": [
       "339"
      ]
     },
     "execution_count": 40,
     "metadata": {},
     "output_type": "execute_result"
    }
   ],
   "source": [
    "len(datanorm_ring)"
   ]
  },
  {
   "cell_type": "markdown",
   "id": "2a5bfba9",
   "metadata": {},
   "source": [
    "## 4.3 Clustering"
   ]
  },
  {
   "cell_type": "markdown",
   "id": "3d3043c8",
   "metadata": {},
   "source": [
    "Primer estudio con k-means y K=4. Recordemos que no queremos más de 8-12 clusters para obtener perfiles cualitativamente claros para los diferentes tipos de jugadores"
   ]
  },
  {
   "cell_type": "markdown",
   "id": "3317ef3a",
   "metadata": {},
   "source": [
    "Para los jugadores que no han jugado playoffs ni tienen ningún anillo (*datanorm_RegS*)"
   ]
  },
  {
   "cell_type": "code",
   "execution_count": 41,
   "id": "d4cd872f",
   "metadata": {},
   "outputs": [
    {
     "data": {
      "text/plain": [
       "KMeans(n_clusters=4, random_state=0)"
      ]
     },
     "execution_count": 41,
     "metadata": {},
     "output_type": "execute_result"
    }
   ],
   "source": [
    "K=4\n",
    "clf_rs = cluster.KMeans(n_clusters=K, random_state=0) #inicialización del k-means clustering\n",
    "clf_rs.fit(datanorm_RegS) #run del k-means clustering"
   ]
  },
  {
   "cell_type": "code",
   "execution_count": 42,
   "id": "6a9f653b",
   "metadata": {},
   "outputs": [
    {
     "name": "stdout",
     "output_type": "stream",
     "text": [
      "[3 2 1 ... 2 1 2]\n"
     ]
    }
   ],
   "source": [
    "y_pred_RegS = clf_rs.predict(datanorm_RegS) #Predecir el cluster más probable al que pertence cada muestra\n",
    "print(y_pred_RegS)"
   ]
  },
  {
   "cell_type": "code",
   "execution_count": 43,
   "id": "d50b8677",
   "metadata": {},
   "outputs": [
    {
     "name": "stdout",
     "output_type": "stream",
     "text": [
      "Clusters:[ 94 376 358 327 ]\n"
     ]
    }
   ],
   "source": [
    "print('Clusters:[', len(datanorm_RegS[(clf_rs.labels_==0)]),len(datanorm_RegS[(clf_rs.labels_==1)]),\n",
    "              len(datanorm_RegS[(clf_rs.labels_==2)]),len(datanorm_RegS[(clf_rs.labels_==3)]),']')"
   ]
  },
  {
   "cell_type": "markdown",
   "id": "b5777c69",
   "metadata": {},
   "source": [
    "Para los jugadores que sí han jugado playoffs pero no tienen ningún anillo (*datanorm_playoff*)"
   ]
  },
  {
   "cell_type": "code",
   "execution_count": 44,
   "id": "f244ef66",
   "metadata": {},
   "outputs": [
    {
     "data": {
      "text/plain": [
       "KMeans(n_clusters=4, random_state=0)"
      ]
     },
     "execution_count": 44,
     "metadata": {},
     "output_type": "execute_result"
    }
   ],
   "source": [
    "K=4\n",
    "clf_p = cluster.KMeans(n_clusters=K, random_state=0) #initialize the k-means clustering\n",
    "clf_p.fit(datanorm_playoff) #run the k-means clustering"
   ]
  },
  {
   "cell_type": "code",
   "execution_count": 45,
   "id": "3a0105bc",
   "metadata": {},
   "outputs": [
    {
     "name": "stdout",
     "output_type": "stream",
     "text": [
      "[3 1 0 ... 0 3 3]\n"
     ]
    }
   ],
   "source": [
    "y_pred_playoff = clf_p.predict(datanorm_playoff) #Predict the closest cluster each sample in X belongs to.\n",
    "print(y_pred_playoff)"
   ]
  },
  {
   "cell_type": "code",
   "execution_count": 46,
   "id": "0ecf8bae",
   "metadata": {},
   "outputs": [
    {
     "name": "stdout",
     "output_type": "stream",
     "text": [
      "Clusters:[ 448 379 64 390 ]\n"
     ]
    }
   ],
   "source": [
    "print('Clusters:[', len(datanorm_playoff[(clf_p.labels_==0)]),len(datanorm_playoff[(clf_p.labels_==1)]),\n",
    "              len(datanorm_playoff[(clf_p.labels_==2)]),len(datanorm_playoff[(clf_p.labels_==3)]),']')"
   ]
  },
  {
   "cell_type": "markdown",
   "id": "46e93363",
   "metadata": {},
   "source": [
    "Para los jugadores que sí han ganado algún anillo (*datanorm_ring*)"
   ]
  },
  {
   "cell_type": "code",
   "execution_count": 47,
   "id": "f4c432d9",
   "metadata": {},
   "outputs": [
    {
     "data": {
      "text/plain": [
       "KMeans(n_clusters=4, random_state=0)"
      ]
     },
     "execution_count": 47,
     "metadata": {},
     "output_type": "execute_result"
    }
   ],
   "source": [
    "K=4\n",
    "clf_r = cluster.KMeans(n_clusters=K, random_state=0) #initialize the k-means clustering\n",
    "clf_r.fit(datanorm_ring) #run the k-means clustering"
   ]
  },
  {
   "cell_type": "code",
   "execution_count": 48,
   "id": "6fc8d886",
   "metadata": {},
   "outputs": [
    {
     "name": "stdout",
     "output_type": "stream",
     "text": [
      "[3 3 3 0 0 0 2 0 0 1 2 2 1 0 0 0 0 0 0 0 3 1 0 3 0 0 2 3 3 0 2 1 0 2 0 1 3\n",
      " 2 0 3 0 2 0 2 3 2 3 2 0 3 3 1 0 0 0 0 2 2 3 0 2 0 0 0 0 2 1 0 0 0 2 0 0 0\n",
      " 0 1 0 3 2 3 3 3 2 0 3 3 1 2 0 0 2 0 1 1 3 1 0 1 2 2 3 0 2 0 0 0 0 0 2 1 0\n",
      " 1 1 1 3 0 1 0 2 1 2 0 1 0 3 3 2 1 0 3 0 3 0 3 1 0 2 2 3 1 0 3 1 3 0 2 3 0\n",
      " 0 1 0 1 0 0 3 1 1 0 3 0 3 0 0 3 3 2 0 0 3 0 0 3 2 2 2 0 1 0 1 2 3 2 1 3 0\n",
      " 3 0 2 2 1 1 0 0 2 2 2 1 3 3 3 0 2 2 0 2 2 3 3 0 0 1 2 3 3 3 0 0 2 2 2 3 0\n",
      " 0 2 2 3 3 2 0 3 1 3 2 1 1 2 2 0 1 0 0 2 2 2 1 1 3 2 1 0 2 3 0 1 3 0 3 2 2\n",
      " 0 3 0 0 1 0 2 1 2 3 2 3 0 0 1 3 2 2 0 0 0 2 3 2 2 0 0 0 0 2 0 2 0 1 3 2 2\n",
      " 3 1 1 3 3 0 2 0 2 0 2 2 0 0 0 1 3 3 0 1 2 2 1 0 3 0 2 2 0 0 3 1 0 0 0 2 2\n",
      " 3 0 0 3 2 0]\n"
     ]
    }
   ],
   "source": [
    "y_pred_ring = clf_r.predict(datanorm_ring) #Predict the closest cluster each sample in X belongs to.\n",
    "print(y_pred_ring)"
   ]
  },
  {
   "cell_type": "code",
   "execution_count": 49,
   "id": "dac9978a",
   "metadata": {},
   "outputs": [
    {
     "name": "stdout",
     "output_type": "stream",
     "text": [
      "Clusters:[ 127 53 85 74 ]\n"
     ]
    }
   ],
   "source": [
    "print('Clusters:[', len(datanorm_ring[(clf_r.labels_==0)]),len(datanorm_ring[(clf_r.labels_==1)]),\n",
    "              len(datanorm_ring[(clf_r.labels_==2)]),len(datanorm_ring[(clf_r.labels_==3)]),']')"
   ]
  },
  {
   "cell_type": "markdown",
   "id": "dac4c17b",
   "metadata": {},
   "source": [
    "### 4.3.1 Análisis en profundidad del clustering de *RegS*"
   ]
  },
  {
   "cell_type": "markdown",
   "id": "deddd4d9",
   "metadata": {},
   "source": [
    "Realizamos varias pruebas usando K-means para determinar el número de K óptimo"
   ]
  },
  {
   "cell_type": "code",
   "execution_count": 50,
   "id": "ba48eb5e",
   "metadata": {},
   "outputs": [
    {
     "data": {
      "text/plain": [
       "[<matplotlib.lines.Line2D at 0x1e3e3d4afd0>]"
      ]
     },
     "execution_count": 50,
     "metadata": {},
     "output_type": "execute_result"
    },
    {
     "data": {
      "image/png": "[encoded data removed]",
      "text/plain": [
       "<Figure size 864x360 with 1 Axes>"
      ]
     },
     "metadata": {},
     "output_type": "display_data"
    }
   ],
   "source": [
    "d=[]\n",
    "for K in range(2,8):\n",
    "    clf = cluster.KMeans(init='random', n_clusters=K, random_state=0)\n",
    "    clf.fit(datanorm_RegS)\n",
    "    y_pred = clf.predict(datanorm_RegS)\n",
    "    p=[]\n",
    "    for i in range(K):\n",
    "        p.append(np.sum(distance.cdist(datanorm_RegS[y_pred==i,:],[clf.cluster_centers_[i]],'euclidean')))\n",
    "    d.append(np.sum(p))\n",
    "plt.plot(np.arange(2,8),d)"
   ]
  },
  {
   "cell_type": "code",
   "execution_count": 51,
   "id": "f8eaa9ed",
   "metadata": {},
   "outputs": [
    {
     "name": "stdout",
     "output_type": "stream",
     "text": [
      "k: 2\n",
      "Cluster 0 has 238 players\n",
      "Cluster 1 has 917 players\n",
      "k: 3\n",
      "Cluster 0 has 424 players\n",
      "Cluster 1 has 589 players\n",
      "Cluster 2 has 142 players\n",
      "k: 4\n",
      "Cluster 0 has 94 players\n",
      "Cluster 1 has 314 players\n",
      "Cluster 2 has 377 players\n",
      "Cluster 3 has 370 players\n",
      "k: 5\n",
      "Cluster 0 has 78 players\n",
      "Cluster 1 has 290 players\n",
      "Cluster 2 has 199 players\n",
      "Cluster 3 has 264 players\n",
      "Cluster 4 has 324 players\n",
      "k: 6\n",
      "Cluster 0 has 212 players\n",
      "Cluster 1 has 303 players\n",
      "Cluster 2 has 74 players\n",
      "Cluster 3 has 175 players\n",
      "Cluster 4 has 141 players\n",
      "Cluster 5 has 250 players\n",
      "k: 7\n",
      "Cluster 0 has 185 players\n",
      "Cluster 1 has 267 players\n",
      "Cluster 2 has 40 players\n",
      "Cluster 3 has 172 players\n",
      "Cluster 4 has 119 players\n",
      "Cluster 5 has 231 players\n",
      "Cluster 6 has 141 players\n",
      "k: 8\n",
      "Cluster 0 has 196 players\n",
      "Cluster 1 has 188 players\n",
      "Cluster 2 has 149 players\n",
      "Cluster 3 has 126 players\n",
      "Cluster 4 has 264 players\n",
      "Cluster 5 has 120 players\n",
      "Cluster 6 has 33 players\n",
      "Cluster 7 has 79 players\n",
      "k: 9\n",
      "Cluster 0 has 171 players\n",
      "Cluster 1 has 189 players\n",
      "Cluster 2 has 148 players\n",
      "Cluster 3 has 95 players\n",
      "Cluster 4 has 176 players\n",
      "Cluster 5 has 164 players\n",
      "Cluster 6 has 31 players\n",
      "Cluster 7 has 79 players\n",
      "Cluster 8 has 102 players\n",
      "k: 10\n",
      "Cluster 0 has 145 players\n",
      "Cluster 1 has 152 players\n",
      "Cluster 2 has 134 players\n",
      "Cluster 3 has 96 players\n",
      "Cluster 4 has 159 players\n",
      "Cluster 5 has 153 players\n",
      "Cluster 6 has 31 players\n",
      "Cluster 7 has 74 players\n",
      "Cluster 8 has 101 players\n",
      "Cluster 9 has 110 players\n",
      "k: 11\n",
      "Cluster 0 has 144 players\n",
      "Cluster 1 has 150 players\n",
      "Cluster 2 has 133 players\n",
      "Cluster 3 has 91 players\n",
      "Cluster 4 has 155 players\n",
      "Cluster 5 has 135 players\n",
      "Cluster 6 has 30 players\n",
      "Cluster 7 has 75 players\n",
      "Cluster 8 has 56 players\n",
      "Cluster 9 has 102 players\n",
      "Cluster 10 has 84 players\n",
      "k: 12\n",
      "Cluster 0 has 96 players\n",
      "Cluster 1 has 149 players\n",
      "Cluster 2 has 139 players\n",
      "Cluster 3 has 102 players\n",
      "Cluster 4 has 29 players\n",
      "Cluster 5 has 33 players\n",
      "Cluster 6 has 123 players\n",
      "Cluster 7 has 88 players\n",
      "Cluster 8 has 136 players\n",
      "Cluster 9 has 57 players\n",
      "Cluster 10 has 91 players\n",
      "Cluster 11 has 112 players\n",
      "k: 13\n",
      "Cluster 0 has 98 players\n",
      "Cluster 1 has 44 players\n",
      "Cluster 2 has 132 players\n",
      "Cluster 3 has 125 players\n",
      "Cluster 4 has 86 players\n",
      "Cluster 5 has 33 players\n",
      "Cluster 6 has 106 players\n",
      "Cluster 7 has 86 players\n",
      "Cluster 8 has 141 players\n",
      "Cluster 9 has 58 players\n",
      "Cluster 10 has 81 players\n",
      "Cluster 11 has 133 players\n",
      "Cluster 12 has 32 players\n"
     ]
    }
   ],
   "source": [
    "inrt=np.zeros(12)\n",
    "sil_kmeans_r=np.zeros(12)\n",
    "\n",
    "for i in range(12):\n",
    "        print('k:',1*i+2)\n",
    "        clf = cluster.KMeans(init='random', n_clusters=i*1+2, random_state=0)\n",
    "        clf.fit(datanorm_RegS)\n",
    "        inrt[i]=clf.inertia_\n",
    "        sil_kmeans_r[i]=metrics.silhouette_score(datanorm_RegS, clf.labels_,  metric='euclidean')\n",
    "        N = 1*i+2\n",
    "        for i in range(N):\n",
    "            print('Cluster ' + str(i) + ' has ' + str(len(datanorm_RegS[(clf.labels_==i)])) + ' players')"
   ]
  },
  {
   "cell_type": "code",
   "execution_count": null,
   "id": "f53034fb",
   "metadata": {},
   "outputs": [],
   "source": [
    "plt.plot(np.arange(12)*1+2,scaler.fit_transform(sil_kmeans_r.reshape(-1, 1)),'r', label='silhouette_random')\n",
    "plt.plot(np.arange(12)*1+2,scaler.fit_transform(inrt.reshape(-1, 1)),'b', label='inertia_random')\n",
    "plt.legend()\n",
    "fig=plt.gcf()\n",
    "fig.set_size_inches((16,5))"
   ]
  },
  {
   "cell_type": "code",
   "execution_count": null,
   "id": "398dc429",
   "metadata": {},
   "outputs": [],
   "source": [
    "inrt=np.zeros(12)\n",
    "sil_kmeans_plus=np.zeros(12)\n",
    "\n",
    "for i in range(12):\n",
    "        print('k:',1*i+2)\n",
    "        clf = cluster.KMeans(init='k-means++', n_clusters=i*1+2, random_state=0)\n",
    "        clf.fit(datanorm_RegS)\n",
    "        inrt[i]=clf.inertia_\n",
    "        sil_kmeans_plus[i]=metrics.silhouette_score(datanorm_RegS, clf.labels_,  metric='euclidean')\n",
    "        N = 1*i+2\n",
    "        for i in range(N):\n",
    "            print('Cluster ' + str(i) + ' has ' + str(len(datanorm_RegS[(clf.labels_==i)])) + ' players')"
   ]
  },
  {
   "cell_type": "code",
   "execution_count": null,
   "id": "13edb385",
   "metadata": {},
   "outputs": [],
   "source": [
    "warnings.filterwarnings(\"ignore\")\n",
    "\n",
    "plt.plot(np.arange(12)*1+2,scaler.fit_transform(sil_kmeans_plus.reshape(-1, 1)),'r', label='silhouette_km++')\n",
    "plt.plot(np.arange(12)*1+2,scaler.fit_transform(inrt.reshape(-1, 1)),'b', label='inertia_km++')\n",
    "plt.legend()\n",
    "fig=plt.gcf()\n",
    "fig.set_size_inches((16,5))"
   ]
  },
  {
   "cell_type": "markdown",
   "id": "8a959e8f",
   "metadata": {},
   "source": [
    "Parece que la mejor elección que podemos hacer es K=3. Pero antes, vamos a estudiar otras técnicas de clustering"
   ]
  },
  {
   "cell_type": "markdown",
   "id": "9d55048d",
   "metadata": {},
   "source": [
    "Empezamos por el hierarhical clustering"
   ]
  },
  {
   "cell_type": "code",
   "execution_count": null,
   "id": "f1cbb3be",
   "metadata": {},
   "outputs": [],
   "source": [
    "sil_single=np.zeros(12)\n",
    "\n",
    "for i in range(12):\n",
    "        print('k:',1*i+2)\n",
    "        single = cluster.AgglomerativeClustering(linkage=\"single\",n_clusters=1*i+2,connectivity=None)\n",
    "        single.fit(datanorm_RegS)\n",
    "        sil_single[i]=metrics.silhouette_score(datanorm_RegS, single.labels_,  metric='euclidean')\n",
    "        N = 1*i+2\n",
    "        for i in range(N):\n",
    "            print('Cluster ' + str(i) + ' has ' + str(len(datanorm_RegS[(single.labels_==i)])) + ' players')"
   ]
  },
  {
   "cell_type": "code",
   "execution_count": null,
   "id": "526468a5",
   "metadata": {},
   "outputs": [],
   "source": [
    "sil_single_con=np.zeros(12)\n",
    "connectivity = kneighbors_graph(datanorm_RegS, n_neighbors=5)\n",
    "for i in range(12):\n",
    "        print('k:',1*i+2)\n",
    "        single = cluster.AgglomerativeClustering(linkage=\"single\",n_clusters=1*i+2,connectivity=connectivity)\n",
    "        single.fit(datanorm_RegS)\n",
    "        sil_single_con[i]=metrics.silhouette_score(datanorm_RegS, single.labels_,  metric='euclidean')\n",
    "        N = 1*i+2\n",
    "        for i in range(N):\n",
    "            print('Cluster ' + str(i) + ' has ' + str(len(datanorm_RegS[(single.labels_==i)])) + ' players')"
   ]
  },
  {
   "cell_type": "code",
   "execution_count": null,
   "id": "78787981",
   "metadata": {},
   "outputs": [],
   "source": [
    "sil_ward_con=np.zeros(12)\n",
    "connectivity = kneighbors_graph(datanorm_RegS, n_neighbors=5)\n",
    "for i in range(12):\n",
    "        print('k:',1*i+2)\n",
    "        single = cluster.AgglomerativeClustering(linkage=\"ward\",n_clusters=1*i+2,connectivity=connectivity)\n",
    "        single.fit(datanorm_RegS)\n",
    "        sil_ward_con[i]=metrics.silhouette_score(datanorm_RegS, single.labels_,  metric='euclidean')\n",
    "        N = 1*i+2\n",
    "        for i in range(N):\n",
    "            print('Cluster ' + str(i) + ' has ' + str(len(datanorm_RegS[(single.labels_==i)])) + ' players')\n",
    "            "
   ]
  },
  {
   "cell_type": "markdown",
   "id": "a6eabdca",
   "metadata": {},
   "source": [
    "Seguimos con el spectral clustering"
   ]
  },
  {
   "cell_type": "code",
   "execution_count": null,
   "id": "342e4a6b",
   "metadata": {},
   "outputs": [],
   "source": [
    "sil_spectral=np.zeros(12)\n",
    "\n",
    "for i in range(12):\n",
    "        print('k:',1*i+2)\n",
    "        spectral = cluster.SpectralClustering(n_clusters=i*1+2,  affinity=\"nearest_neighbors\",  eigen_solver='arpack')\n",
    "        spectral.fit(datanorm_RegS)\n",
    "        sil_spectral[i]=metrics.silhouette_score(datanorm_RegS, spectral.labels_,  metric='euclidean')\n",
    "        N = 1*i+2\n",
    "        for i in range(N):\n",
    "            print('Cluster ' + str(i) + ' has ' + str(len(datanorm_RegS[(spectral.labels_==i)])) + ' players')"
   ]
  },
  {
   "cell_type": "markdown",
   "id": "16a21da1",
   "metadata": {},
   "source": [
    "Visualizamos cómo se aplican a nuestro caso varios métodos de clustering"
   ]
  },
  {
   "cell_type": "code",
   "execution_count": null,
   "id": "d6a6587f",
   "metadata": {},
   "outputs": [],
   "source": [
    "plt.plot(np.arange(12)*1+2,sil_kmeans_r.reshape(-1, 1),'black', label='K-means_random')\n",
    "plt.plot(np.arange(12)*1+2,sil_kmeans_plus.reshape(-1, 1),'r', label='K-means_++')\n",
    "plt.plot(np.arange(12)*1+2,sil_spectral.reshape(-1, 1),'g', label='spectral')\n",
    "plt.plot(np.arange(12)*1+2,sil_single.reshape(-1, 1),'b', label='single')\n",
    "plt.plot(np.arange(12)*1+2,sil_single_con.reshape(-1, 1),'m', label='single_con')\n",
    "plt.plot(np.arange(12)*1+2,sil_ward_con.reshape(-1, 1),'c', label='sil_ward_con')\n",
    "\n",
    "\n",
    "plt.legend()\n",
    "fig=plt.gcf()\n",
    "fig.set_size_inches((16,5))"
   ]
  },
  {
   "cell_type": "code",
   "execution_count": null,
   "id": "65cd80db",
   "metadata": {},
   "outputs": [],
   "source": [
    "plt.plot(np.arange(12)*1+2,sil_kmeans_r.reshape(-1, 1),'black', label='K-means_random')\n",
    "plt.plot(np.arange(12)*1+2,sil_kmeans_plus.reshape(-1, 1),'r', label='K-means_++')"
   ]
  },
  {
   "cell_type": "markdown",
   "id": "b97454d2",
   "metadata": {},
   "source": [
    "PCA"
   ]
  },
  {
   "cell_type": "code",
   "execution_count": null,
   "id": "832c288b",
   "metadata": {},
   "outputs": [],
   "source": [
    "reduced_data = PCA(n_components=2).fit_transform(datanorm_RegS)\n",
    "kmeans = cluster.KMeans(init='k-means++', n_clusters=4, n_init=10)\n",
    "kmeans.fit(reduced_data)\n",
    "\n",
    "h = .02             \n",
    "\n",
    "x_min, x_max = reduced_data[:, 0].min() + 1, reduced_data[:, 0].max() - 1\n",
    "y_min, y_max = reduced_data[:, 1].min() + 1, reduced_data[:, 1].max() - 1\n",
    "xx, yy = np.meshgrid(np.arange(x_min, x_max, h), np.arange(y_min, y_max, h))\n",
    "\n",
    "Z = kmeans.predict(np.c_[xx.ravel(), yy.ravel()])\n",
    "\n",
    "Z = Z.reshape(xx.shape)\n",
    "\n",
    "plt.figure(1)\n",
    "plt.clf()\n",
    "plt.imshow(Z, interpolation='nearest', extent=(xx.min(), xx.max(), yy.min(), yy.max()),\n",
    "                       cmap=plt.cm.Paired,aspect='auto', origin='lower')\n",
    "\n",
    "plt.plot(reduced_data[:, 0], reduced_data[:, 1], 'k.', markersize=2)\n",
    "\n",
    "centroids = kmeans.cluster_centers_\n",
    "plt.scatter(centroids[:, 0], centroids[:, 1], marker='x', s=169, linewidths=3,\n",
    "            color='w', zorder=10)\n",
    "plt.title('K-means clustering on the digits dataset (PCA-reduced data)\\n'\n",
    "          'Centroids are marked with white cross')\n",
    "plt.xlim(x_min, x_max)\n",
    "plt.ylim(y_min, y_max)\n",
    "plt.xticks(())\n",
    "plt.yticks(())\n",
    "\n",
    "fig = plt.gcf()\n",
    "fig.set_size_inches((9,9))"
   ]
  },
  {
   "cell_type": "markdown",
   "id": "851fe168",
   "metadata": {},
   "source": [
    "Finalmente, nos quedamos con el **K-means**, con **K=3**"
   ]
  },
  {
   "cell_type": "markdown",
   "id": "54aa35c9",
   "metadata": {},
   "source": [
    "### 4.3.2 Análisis en profundidad del clustering de *playoff*"
   ]
  },
  {
   "cell_type": "markdown",
   "id": "dff22c41",
   "metadata": {},
   "source": [
    "Realizamos varias pruebas usando K-means para determinar el número de K óptimo"
   ]
  },
  {
   "cell_type": "code",
   "execution_count": null,
   "id": "4dee9759",
   "metadata": {},
   "outputs": [],
   "source": [
    "d=[]\n",
    "for K in range(2,12):\n",
    "    clf = cluster.KMeans(init='random', n_clusters=K, random_state=0)\n",
    "    clf.fit(datanorm_playoff)\n",
    "    y_pred = clf.predict(datanorm_playoff)\n",
    "    p=[]\n",
    "    for i in range(K):\n",
    "        p.append(np.sum(distance.cdist(datanorm_playoff[y_pred==i,:],[clf.cluster_centers_[i]],'euclidean')))\n",
    "    d.append(np.sum(p))\n",
    "plt.plot(np.arange(2,12),d)"
   ]
  },
  {
   "cell_type": "code",
   "execution_count": null,
   "id": "54824820",
   "metadata": {},
   "outputs": [],
   "source": [
    "inrt=np.zeros(12)\n",
    "sil_kmeans_r=np.zeros(12)\n",
    "\n",
    "for i in range(12):\n",
    "        print('k:',1*i+2)\n",
    "        clf = cluster.KMeans(init='random', n_clusters=i*1+2, random_state=0)\n",
    "        clf.fit(datanorm_playoff)\n",
    "        inrt[i]=clf.inertia_\n",
    "        sil_kmeans_r[i]=metrics.silhouette_score(datanorm_playoff, clf.labels_,  metric='euclidean')\n",
    "        N = 1*i+2\n",
    "        for i in range(N):\n",
    "            print('Cluster ' + str(i) + ' has ' + str(len(datanorm_playoff[(clf.labels_==i)])) + ' players')"
   ]
  },
  {
   "cell_type": "code",
   "execution_count": null,
   "id": "c8cdb2cd",
   "metadata": {},
   "outputs": [],
   "source": [
    "plt.plot(np.arange(12)*1+2,scaler.fit_transform(sil_kmeans_r.reshape(-1, 1)),'r', label='silhouette_random')\n",
    "plt.plot(np.arange(12)*1+2,scaler.fit_transform(inrt.reshape(-1, 1)),'b', label='inertia_random')\n",
    "plt.legend()\n",
    "fig=plt.gcf()\n",
    "fig.set_size_inches((16,5))"
   ]
  },
  {
   "cell_type": "code",
   "execution_count": null,
   "id": "e5e876e5",
   "metadata": {},
   "outputs": [],
   "source": [
    "inrt=np.zeros(12)\n",
    "sil_kmeans_plus=np.zeros(12)\n",
    "\n",
    "for i in range(12):\n",
    "        print('k:',1*i+2)\n",
    "        clf = cluster.KMeans(init='k-means++', n_clusters=i*1+2, random_state=0)\n",
    "        clf.fit(datanorm_playoff)\n",
    "        inrt[i]=clf.inertia_\n",
    "        sil_kmeans_plus[i]=metrics.silhouette_score(datanorm_playoff, clf.labels_,  metric='euclidean')\n",
    "        N = 1*i+2\n",
    "        for i in range(N):\n",
    "            print('Cluster ' + str(i) + ' has ' + str(len(datanorm_playoff[(clf.labels_==i)])) + ' players')"
   ]
  },
  {
   "cell_type": "code",
   "execution_count": null,
   "id": "c1f19942",
   "metadata": {},
   "outputs": [],
   "source": [
    "plt.plot(np.arange(12)*1+2,scaler.fit_transform(sil_kmeans_plus.reshape(-1, 1)),'r', label='silhouette_km++')\n",
    "plt.plot(np.arange(12)*1+2,scaler.fit_transform(inrt.reshape(-1, 1)),'b', label='inertia_km++')\n",
    "plt.legend()\n",
    "fig=plt.gcf()\n",
    "fig.set_size_inches((16,5))"
   ]
  },
  {
   "cell_type": "markdown",
   "id": "fcf59c37",
   "metadata": {},
   "source": [
    "Parece que la mejor elección que podemos hacer es K=4. Pero antes, vamos a estudiar otras técnicas de clustering"
   ]
  },
  {
   "cell_type": "markdown",
   "id": "e8d63a83",
   "metadata": {},
   "source": [
    "Empezamos por el hierarhical clustering"
   ]
  },
  {
   "cell_type": "code",
   "execution_count": null,
   "id": "a2367527",
   "metadata": {},
   "outputs": [],
   "source": [
    "sil_single=np.zeros(12)\n",
    "\n",
    "for i in range(12):\n",
    "        print('k:',1*i+2)\n",
    "        single = cluster.AgglomerativeClustering(linkage=\"single\",n_clusters=1*i+2,connectivity=None)\n",
    "        single.fit(datanorm_playoff)\n",
    "        sil_single[i]=metrics.silhouette_score(datanorm_playoff, single.labels_,  metric='euclidean')\n",
    "        N = 1*i+2\n",
    "        for i in range(N):\n",
    "            print('Cluster ' + str(i) + ' has ' + str(len(datanorm_playoff[(single.labels_==i)])) + ' players')"
   ]
  },
  {
   "cell_type": "code",
   "execution_count": null,
   "id": "e7e70994",
   "metadata": {},
   "outputs": [],
   "source": [
    "sil_single_con=np.zeros(12)\n",
    "connectivity = kneighbors_graph(datanorm_playoff, n_neighbors=5)\n",
    "for i in range(12):\n",
    "        print('k:',1*i+2)\n",
    "        single = cluster.AgglomerativeClustering(linkage=\"single\",n_clusters=1*i+2,connectivity=connectivity)\n",
    "        single.fit(datanorm_playoff)\n",
    "        sil_single_con[i]=metrics.silhouette_score(datanorm_playoff, single.labels_,  metric='euclidean')\n",
    "        N = 1*i+2\n",
    "        for i in range(N):\n",
    "            print('Cluster ' + str(i) + ' has ' + str(len(datanorm_playoff[(single.labels_==i)])) + ' players')"
   ]
  },
  {
   "cell_type": "code",
   "execution_count": null,
   "id": "38e1aa81",
   "metadata": {},
   "outputs": [],
   "source": [
    "sil_ward_con=np.zeros(12)\n",
    "connectivity = kneighbors_graph(datanorm_playoff, n_neighbors=5)\n",
    "for i in range(12):\n",
    "        print('k:',1*i+2)\n",
    "        single = cluster.AgglomerativeClustering(linkage=\"ward\",n_clusters=1*i+2,connectivity=connectivity)\n",
    "        single.fit(datanorm_playoff)\n",
    "        sil_ward_con[i]=metrics.silhouette_score(datanorm_playoff, single.labels_,  metric='euclidean')\n",
    "        N = 1*i+2\n",
    "        for i in range(N):\n",
    "            print('Cluster ' + str(i) + ' has ' + str(len(datanorm_playoff[(single.labels_==i)])) + ' players')"
   ]
  },
  {
   "cell_type": "markdown",
   "id": "f1a2a610",
   "metadata": {},
   "source": [
    "Seguimos con el spectral clustering"
   ]
  },
  {
   "cell_type": "code",
   "execution_count": null,
   "id": "c3f76b04",
   "metadata": {},
   "outputs": [],
   "source": [
    "sil_spectral=np.zeros(12)\n",
    "\n",
    "for i in range(12):\n",
    "        print('k:',1*i+2)\n",
    "        spectral = cluster.SpectralClustering(n_clusters=i*1+2,  affinity=\"nearest_neighbors\",  eigen_solver='arpack')\n",
    "        spectral.fit(datanorm_playoff)\n",
    "        sil_spectral[i]=metrics.silhouette_score(datanorm_playoff, spectral.labels_,  metric='euclidean')\n",
    "        N = 1*i+2\n",
    "        for i in range(N):\n",
    "            print('Cluster ' + str(i) + ' has ' + str(len(datanorm_playoff[(spectral.labels_==i)])) + ' players')"
   ]
  },
  {
   "cell_type": "markdown",
   "id": "d3cb951f",
   "metadata": {},
   "source": [
    "Visualizamos cómo se aplican a nuestro caso varios métodos de clustering"
   ]
  },
  {
   "cell_type": "code",
   "execution_count": null,
   "id": "ec25c31a",
   "metadata": {},
   "outputs": [],
   "source": [
    "plt.plot(np.arange(12)*1+2,sil_kmeans_r.reshape(-1, 1),'black', label='K-means_random')\n",
    "plt.plot(np.arange(12)*1+2,sil_kmeans_plus.reshape(-1, 1),'r', label='K-means_++')\n",
    "plt.plot(np.arange(12)*1+2,sil_spectral.reshape(-1, 1),'g', label='spectral')\n",
    "plt.plot(np.arange(12)*1+2,sil_single.reshape(-1, 1),'b', label='single')\n",
    "plt.plot(np.arange(12)*1+2,sil_single_con.reshape(-1, 1),'m', label='single_con')\n",
    "plt.plot(np.arange(12)*1+2,sil_ward_con.reshape(-1, 1),'c', label='sil_ward_con')\n",
    "\n",
    "\n",
    "plt.legend()\n",
    "fig=plt.gcf()\n",
    "fig.set_size_inches((16,5))"
   ]
  },
  {
   "cell_type": "code",
   "execution_count": null,
   "id": "8ac20240",
   "metadata": {},
   "outputs": [],
   "source": [
    "plt.plot(np.arange(12)*1+2,sil_kmeans_r.reshape(-1, 1),'black', label='K-means_random')\n",
    "plt.plot(np.arange(12)*1+2,sil_kmeans_plus.reshape(-1, 1),'r', label='K-means_++')"
   ]
  },
  {
   "cell_type": "markdown",
   "id": "61a3ca33",
   "metadata": {},
   "source": [
    "Finalmente, nos quedamos con el **K-means**, con **K=4**"
   ]
  },
  {
   "cell_type": "markdown",
   "id": "cc48c683",
   "metadata": {},
   "source": [
    "PCA"
   ]
  },
  {
   "cell_type": "code",
   "execution_count": null,
   "id": "d1512002",
   "metadata": {},
   "outputs": [],
   "source": [
    "reduced_data = PCA(n_components=2).fit_transform(datanorm_playoff)\n",
    "kmeans = cluster.KMeans(init='k-means++', n_clusters=4, n_init=90)\n",
    "kmeans.fit(reduced_data)\n",
    "\n",
    "h = .02            \n",
    "\n",
    "x_min, x_max = reduced_data[:, 0].min() + 1, reduced_data[:, 0].max() - 1\n",
    "y_min, y_max = reduced_data[:, 1].min() + 1, reduced_data[:, 1].max() - 1\n",
    "xx, yy = np.meshgrid(np.arange(x_min, x_max, h), np.arange(y_min, y_max, h))\n",
    "\n",
    "Z = kmeans.predict(np.c_[xx.ravel(), yy.ravel()])\n",
    "\n",
    "Z = Z.reshape(xx.shape)\n",
    "\n",
    "plt.figure(1)\n",
    "plt.clf()\n",
    "plt.imshow(Z, interpolation='nearest', extent=(xx.min(), xx.max(), yy.min(), yy.max()),\n",
    "                       cmap=plt.cm.Paired,aspect='auto', origin='lower')\n",
    "\n",
    "plt.plot(reduced_data[:, 0], reduced_data[:, 1], 'k.', markersize=2)\n",
    "\n",
    "centroids = kmeans.cluster_centers_\n",
    "plt.scatter(centroids[:, 0], centroids[:, 1], marker='x', s=169, linewidths=3,\n",
    "            color='w', zorder=10)\n",
    "plt.title('K-means clustering on the digits dataset (PCA-reduced data)\\n'\n",
    "          'Centroids are marked with white cross')\n",
    "plt.xlim(x_min, x_max)\n",
    "plt.ylim(y_min, y_max)\n",
    "plt.xticks(())\n",
    "plt.yticks(())\n",
    "\n",
    "fig = plt.gcf()\n",
    "fig.set_size_inches((9,9))"
   ]
  },
  {
   "cell_type": "markdown",
   "id": "0b2c22eb",
   "metadata": {},
   "source": [
    "### 4.3.3 Análisis en profundidad del clustering de *ring*"
   ]
  },
  {
   "cell_type": "markdown",
   "id": "ff224b45",
   "metadata": {},
   "source": [
    "Realizamos varias pruebas usando K-means para determinar el número de K óptimo"
   ]
  },
  {
   "cell_type": "code",
   "execution_count": null,
   "id": "0c9472d6",
   "metadata": {},
   "outputs": [],
   "source": [
    "d=[]\n",
    "for K in range(2,8):\n",
    "    clf = cluster.KMeans(init='random', n_clusters=K, random_state=0)\n",
    "    clf.fit(datanorm_ring)\n",
    "    y_pred = clf.predict(datanorm_ring)\n",
    "    p=[]\n",
    "    for i in range(K):\n",
    "        p.append(np.sum(distance.cdist(datanorm_ring[y_pred==i,:],[clf.cluster_centers_[i]],'euclidean')))\n",
    "    d.append(np.sum(p))\n",
    "plt.plot(np.arange(2,8),d)"
   ]
  },
  {
   "cell_type": "code",
   "execution_count": null,
   "id": "d2fb16c9",
   "metadata": {},
   "outputs": [],
   "source": [
    "inrt=np.zeros(12)\n",
    "sil_kmeans_r=np.zeros(12)\n",
    "\n",
    "for i in range(12):\n",
    "        print('k:',1*i+2)\n",
    "        clf = cluster.KMeans(init='random', n_clusters=i*1+2, random_state=0)\n",
    "        clf.fit(datanorm_ring)\n",
    "        inrt[i]=clf.inertia_\n",
    "        sil_kmeans_r[i]=metrics.silhouette_score(datanorm_ring, clf.labels_,  metric='euclidean')\n",
    "        N = 1*i+2\n",
    "        for i in range(N):\n",
    "            print('Cluster ' + str(i) + ' has ' + str(len(datanorm_ring[(clf.labels_==i)])) + ' players')"
   ]
  },
  {
   "cell_type": "code",
   "execution_count": null,
   "id": "35b4e966",
   "metadata": {},
   "outputs": [],
   "source": [
    "plt.plot(np.arange(12)*1+2,scaler.fit_transform(sil_kmeans_r.reshape(-1, 1)),'r', label='silhouette_random')\n",
    "plt.plot(np.arange(12)*1+2,scaler.fit_transform(inrt.reshape(-1, 1)),'b', label='inertia_random')\n",
    "plt.legend()\n",
    "fig=plt.gcf()\n",
    "fig.set_size_inches((16,5))"
   ]
  },
  {
   "cell_type": "code",
   "execution_count": null,
   "id": "0c904553",
   "metadata": {},
   "outputs": [],
   "source": [
    "inrt=np.zeros(12)\n",
    "sil_kmeans_plus=np.zeros(12)\n",
    "\n",
    "for i in range(12):\n",
    "        print('k:',1*i+2)\n",
    "        clf = cluster.KMeans(init='k-means++', n_clusters=i*1+2, random_state=0)\n",
    "        clf.fit(datanorm_ring)\n",
    "        inrt[i]=clf.inertia_\n",
    "        sil_kmeans_plus[i]=metrics.silhouette_score(datanorm_ring, clf.labels_,  metric='euclidean')\n",
    "        N = 1*i+2\n",
    "        for i in range(N):\n",
    "            print('Cluster ' + str(i) + ' has ' + str(len(datanorm_ring[(clf.labels_==i)])) + ' players')"
   ]
  },
  {
   "cell_type": "code",
   "execution_count": null,
   "id": "b0013e93",
   "metadata": {},
   "outputs": [],
   "source": [
    "warnings.filterwarnings(\"ignore\")\n",
    "\n",
    "plt.plot(np.arange(12)*1+2,scaler.fit_transform(sil_kmeans_plus.reshape(-1, 1)),'r', label='silhouette_km++')\n",
    "plt.plot(np.arange(12)*1+2,scaler.fit_transform(inrt.reshape(-1, 1)),'b', label='inertia_km++')\n",
    "plt.legend()\n",
    "fig=plt.gcf()\n",
    "fig.set_size_inches((16,5))"
   ]
  },
  {
   "cell_type": "markdown",
   "id": "d7c5459e",
   "metadata": {},
   "source": [
    "Parece que la mejor elección que podemos hacer es K=3. Pero antes, vamos a estudiar otras técnicas de clustering"
   ]
  },
  {
   "cell_type": "markdown",
   "id": "a50185eb",
   "metadata": {},
   "source": [
    "Empezamos por el hierarhical clustering"
   ]
  },
  {
   "cell_type": "code",
   "execution_count": null,
   "id": "4a0afd0d",
   "metadata": {},
   "outputs": [],
   "source": [
    "sil_single=np.zeros(12)\n",
    "\n",
    "for i in range(12):\n",
    "        print('k:',1*i+2)\n",
    "        single = cluster.AgglomerativeClustering(linkage=\"single\",n_clusters=1*i+2,connectivity=None)\n",
    "        single.fit(datanorm_ring)\n",
    "        sil_single[i]=metrics.silhouette_score(datanorm_ring, single.labels_,  metric='euclidean')\n",
    "        N = 1*i+2\n",
    "        for i in range(N):\n",
    "            print('Cluster ' + str(i) + ' has ' + str(len(datanorm_ring[(single.labels_==i)])) + ' players')"
   ]
  },
  {
   "cell_type": "code",
   "execution_count": null,
   "id": "22ff423d",
   "metadata": {},
   "outputs": [],
   "source": [
    "sil_single_con=np.zeros(12)\n",
    "connectivity = kneighbors_graph(datanorm_ring, n_neighbors=5)\n",
    "for i in range(12):\n",
    "        print('k:',1*i+2)\n",
    "        single = cluster.AgglomerativeClustering(linkage=\"single\",n_clusters=1*i+2,connectivity=connectivity)\n",
    "        single.fit(datanorm_ring)\n",
    "        sil_single_con[i]=metrics.silhouette_score(datanorm_ring, single.labels_,  metric='euclidean')\n",
    "        N = 1*i+2\n",
    "        for i in range(N):\n",
    "            print('Cluster ' + str(i) + ' has ' + str(len(datanorm_ring[(single.labels_==i)])) + ' players')"
   ]
  },
  {
   "cell_type": "code",
   "execution_count": null,
   "id": "bcf9094a",
   "metadata": {},
   "outputs": [],
   "source": [
    "sil_ward_con=np.zeros(12)\n",
    "connectivity = kneighbors_graph(datanorm_ring, n_neighbors=5)\n",
    "for i in range(12):\n",
    "        print('k:',1*i+2)\n",
    "        single = cluster.AgglomerativeClustering(linkage=\"ward\",n_clusters=1*i+2,connectivity=connectivity)\n",
    "        single.fit(datanorm_ring)\n",
    "        sil_ward_con[i]=metrics.silhouette_score(datanorm_ring, single.labels_,  metric='euclidean')\n",
    "        N = 1*i+2\n",
    "        for i in range(N):\n",
    "            print('Cluster ' + str(i) + ' has ' + str(len(datanorm_ring[(single.labels_==i)])) + ' players')"
   ]
  },
  {
   "cell_type": "markdown",
   "id": "540e63a5",
   "metadata": {},
   "source": [
    "Seguimos con el spectral clustering"
   ]
  },
  {
   "cell_type": "code",
   "execution_count": null,
   "id": "17dc66a5",
   "metadata": {},
   "outputs": [],
   "source": [
    "sil_spectral=np.zeros(12)\n",
    "\n",
    "for i in range(12):\n",
    "        print('k:',1*i+2)\n",
    "        spectral = cluster.SpectralClustering(n_clusters=i*1+2,  affinity=\"nearest_neighbors\",  eigen_solver='arpack')\n",
    "        spectral.fit(datanorm_ring)\n",
    "        sil_spectral[i]=metrics.silhouette_score(datanorm_ring, spectral.labels_,  metric='euclidean')\n",
    "        N = 1*i+2\n",
    "        for i in range(N):\n",
    "            print('Cluster ' + str(i) + ' has ' + str(len(datanorm_ring[(spectral.labels_==i)])) + ' players')"
   ]
  },
  {
   "cell_type": "markdown",
   "id": "c435a557",
   "metadata": {},
   "source": [
    "Visualizamos cómo se aplican a nuestro caso varios métodos de clustering"
   ]
  },
  {
   "cell_type": "code",
   "execution_count": null,
   "id": "f6d71aed",
   "metadata": {},
   "outputs": [],
   "source": [
    "plt.plot(np.arange(12)*1+2,sil_kmeans_r.reshape(-1, 1),'black', label='K-means_random')\n",
    "plt.plot(np.arange(12)*1+2,sil_kmeans_plus.reshape(-1, 1),'r', label='K-means_++')\n",
    "plt.plot(np.arange(12)*1+2,sil_spectral.reshape(-1, 1),'g', label='spectral')\n",
    "plt.plot(np.arange(12)*1+2,sil_single.reshape(-1, 1),'b', label='single')\n",
    "plt.plot(np.arange(12)*1+2,sil_single_con.reshape(-1, 1),'m', label='single_con')\n",
    "plt.plot(np.arange(12)*1+2,sil_ward_con.reshape(-1, 1),'c', label='sil_ward_con')\n",
    "\n",
    "\n",
    "plt.legend()\n",
    "fig=plt.gcf()\n",
    "fig.set_size_inches((16,5))"
   ]
  },
  {
   "cell_type": "code",
   "execution_count": null,
   "id": "cae62852",
   "metadata": {},
   "outputs": [],
   "source": [
    "plt.plot(np.arange(12)*1+2,sil_kmeans_r.reshape(-1, 1),'black', label='K-means_random')\n",
    "plt.plot(np.arange(12)*1+2,sil_kmeans_plus.reshape(-1, 1),'r', label='K-means_++')"
   ]
  },
  {
   "cell_type": "markdown",
   "id": "e6ad0cb4",
   "metadata": {},
   "source": [
    "PCA"
   ]
  },
  {
   "cell_type": "code",
   "execution_count": null,
   "id": "8837f79c",
   "metadata": {},
   "outputs": [],
   "source": [
    "reduced_data = PCA(n_components=2).fit_transform(datanorm_ring)\n",
    "kmeans = cluster.KMeans(init='k-means++', n_clusters=3, n_init=10)\n",
    "kmeans.fit(reduced_data)\n",
    "\n",
    "h = .02             \n",
    "\n",
    "x_min, x_max = reduced_data[:, 0].min() + 1, reduced_data[:, 0].max() - 1\n",
    "y_min, y_max = reduced_data[:, 1].min() + 1, reduced_data[:, 1].max() - 1\n",
    "xx, yy = np.meshgrid(np.arange(x_min, x_max, h), np.arange(y_min, y_max, h))\n",
    "\n",
    "Z = kmeans.predict(np.c_[xx.ravel(), yy.ravel()])\n",
    "\n",
    "Z = Z.reshape(xx.shape)\n",
    "\n",
    "plt.figure(1)\n",
    "plt.clf()\n",
    "plt.imshow(Z, interpolation='nearest', extent=(xx.min(), xx.max(), yy.min(), yy.max()),\n",
    "                       cmap=plt.cm.Paired,aspect='auto', origin='lower')\n",
    "\n",
    "plt.plot(reduced_data[:, 0], reduced_data[:, 1], 'k.', markersize=2)\n",
    "\n",
    "centroids = kmeans.cluster_centers_\n",
    "plt.scatter(centroids[:, 0], centroids[:, 1], marker='x', s=169, linewidths=3,\n",
    "            color='w', zorder=10)\n",
    "plt.title('K-means clustering on the digits dataset (PCA-reduced data)\\n'\n",
    "          'Centroids are marked with white cross')\n",
    "plt.xlim(x_min, x_max)\n",
    "plt.ylim(y_min, y_max)\n",
    "plt.xticks(())\n",
    "plt.yticks(())\n",
    "\n",
    "fig = plt.gcf()\n",
    "fig.set_size_inches((9,9))"
   ]
  },
  {
   "cell_type": "markdown",
   "id": "511863d9",
   "metadata": {},
   "source": [
    "## 4.4 Modelos optimizados y clustering board"
   ]
  },
  {
   "cell_type": "markdown",
   "id": "8c381e83",
   "metadata": {},
   "source": [
    "Como resultado de todo lo anterior, hemos obtenido que el modelo óptimo es, para todos los casos, usar el K-means. En *RegS* y en *ring* obtendremos 3 clusters, mientras que en *playoff* obtendremos 4 clusters."
   ]
  },
  {
   "cell_type": "markdown",
   "id": "a1a6a774",
   "metadata": {},
   "source": [
    "### 4.4.1 Modelo *RegS* "
   ]
  },
  {
   "cell_type": "code",
   "execution_count": null,
   "id": "9150d513",
   "metadata": {},
   "outputs": [],
   "source": [
    "n_clusters_optimized = 3\n",
    "random_state = 0\n",
    "\n",
    "clustering_model_regs = cluster.KMeans(init='random', n_clusters=n_clusters_optimized, random_state=random_state)\n",
    "clustering_model_regs.fit(datanorm_RegS)\n",
    "\n",
    "path = './Models/'\n",
    "filename = 'clustering_model_RegS'\n",
    "pickle.dump(clustering_model_regs, open(path+filename, 'wb'))"
   ]
  },
  {
   "cell_type": "code",
   "execution_count": null,
   "id": "4a8b399d",
   "metadata": {},
   "outputs": [],
   "source": [
    "pred_regs = clustering_model_regs.predict(datanorm_RegS)\n",
    "regs_golden_record['Cluster'] = pred_regs\n",
    "regs_golden_record['Cluster'] = regs_golden_record['Cluster'].astype('str')"
   ]
  },
  {
   "cell_type": "code",
   "execution_count": null,
   "id": "a6aec59e",
   "metadata": {},
   "outputs": [],
   "source": [
    "regs_golden_record.head()"
   ]
  },
  {
   "cell_type": "markdown",
   "id": "46a67c06",
   "metadata": {},
   "source": [
    "Visualizamos los clusters obtenidos"
   ]
  },
  {
   "cell_type": "code",
   "execution_count": null,
   "id": "c9073189",
   "metadata": {},
   "outputs": [],
   "source": [
    "regs_golden_record['Cluster'].hist()"
   ]
  },
  {
   "cell_type": "markdown",
   "id": "f96812f2",
   "metadata": {},
   "source": [
    "### 4.4.2 Modelo *Playoff*"
   ]
  },
  {
   "cell_type": "code",
   "execution_count": null,
   "id": "cbe9389f",
   "metadata": {},
   "outputs": [],
   "source": [
    "n_clusters_optimized = 4\n",
    "random_state = 0\n",
    "\n",
    "clustering_model_playoff = cluster.KMeans(init='random', n_clusters=n_clusters_optimized, random_state=random_state)\n",
    "clustering_model_playoff.fit(datanorm_playoff)\n",
    "\n",
    "path = './Models/'\n",
    "filename = 'clustering_model_playoff'\n",
    "pickle.dump(clustering_model_playoff, open(path+filename, 'wb'))"
   ]
  },
  {
   "cell_type": "code",
   "execution_count": null,
   "id": "372bbd72",
   "metadata": {},
   "outputs": [],
   "source": [
    "pred_playoff = clustering_model_playoff.predict(datanorm_playoff)\n",
    "playoff_golden_record['Cluster'] = pred_playoff"
   ]
  },
  {
   "cell_type": "code",
   "execution_count": null,
   "id": "619445d2",
   "metadata": {},
   "outputs": [],
   "source": [
    "playoff_golden_record.head()"
   ]
  },
  {
   "cell_type": "markdown",
   "id": "2cd56c0a",
   "metadata": {},
   "source": [
    "Asignamos los 4 clusters obtenidos a los números 3, 4, 5 y 6, para que no tengan el mismo identificador que los anteriores"
   ]
  },
  {
   "cell_type": "code",
   "execution_count": null,
   "id": "2d22fdfe",
   "metadata": {},
   "outputs": [],
   "source": [
    "playoff_golden_record['Cluster'] = playoff_golden_record['Cluster'].apply(lambda x: 3 if x==0 else 4 if x==1 else 5 if x==2 else 6)"
   ]
  },
  {
   "cell_type": "markdown",
   "id": "73e4033e",
   "metadata": {},
   "source": [
    "Visualizamos los clusters obtenidos"
   ]
  },
  {
   "cell_type": "code",
   "execution_count": null,
   "id": "4654aacf",
   "metadata": {},
   "outputs": [],
   "source": [
    "playoff_golden_record['Cluster'] = playoff_golden_record['Cluster'].astype('str')\n",
    "playoff_golden_record['Cluster'].hist()"
   ]
  },
  {
   "cell_type": "markdown",
   "id": "b93389c7",
   "metadata": {},
   "source": [
    "### 4.4.3 Modelo *Ring*"
   ]
  },
  {
   "cell_type": "code",
   "execution_count": null,
   "id": "a54bbfc3",
   "metadata": {},
   "outputs": [],
   "source": [
    "n_clusters_optimized = 3\n",
    "random_state = 0\n",
    "\n",
    "clustering_model_ring = cluster.KMeans(init='random', n_clusters=n_clusters_optimized, random_state=random_state)\n",
    "clustering_model_ring.fit(datanorm_ring)\n",
    "\n",
    "path = './Models/'\n",
    "filename = 'clustering_model_ring'\n",
    "pickle.dump(clustering_model_ring, open(path+filename, 'wb'))"
   ]
  },
  {
   "cell_type": "code",
   "execution_count": null,
   "id": "626099d6",
   "metadata": {},
   "outputs": [],
   "source": [
    "pred_ring = clustering_model_ring.predict(datanorm_ring)\n",
    "ring_golden_record['Cluster'] = pred_ring"
   ]
  },
  {
   "cell_type": "code",
   "execution_count": null,
   "id": "81e1ed9e",
   "metadata": {},
   "outputs": [],
   "source": [
    "ring_golden_record.head()"
   ]
  },
  {
   "cell_type": "markdown",
   "id": "b5a67609",
   "metadata": {},
   "source": [
    "Asignamos los 3 clusters obtenidos a los números 7, 8 y 9 para que no tengan el mismo identificador que los anteriores"
   ]
  },
  {
   "cell_type": "code",
   "execution_count": null,
   "id": "ad458623",
   "metadata": {},
   "outputs": [],
   "source": [
    "ring_golden_record['Cluster'] = ring_golden_record['Cluster'].apply(lambda x: 7 if x==0 else 8 if x==1 else 9)\n",
    "ring_golden_record['Cluster'] = ring_golden_record['Cluster'].astype('str')"
   ]
  },
  {
   "cell_type": "markdown",
   "id": "4b1bbe5e",
   "metadata": {},
   "source": [
    "Visualizamos los clusters obtenidos"
   ]
  },
  {
   "cell_type": "code",
   "execution_count": null,
   "id": "0afe650e",
   "metadata": {},
   "outputs": [],
   "source": [
    "ring_golden_record['Cluster'].hist()"
   ]
  },
  {
   "cell_type": "markdown",
   "id": "ae18e6f2",
   "metadata": {},
   "source": [
    "## 4.5 Nuevos dataframes con variables conjuntas"
   ]
  },
  {
   "cell_type": "markdown",
   "id": "67c417f7",
   "metadata": {},
   "source": [
    "Construimos 5 dataframes que nos van a ayudar para determinar los perfiles de los jugadores de los 10 clusters resultantes"
   ]
  },
  {
   "cell_type": "markdown",
   "id": "5bd36195",
   "metadata": {},
   "source": [
    "Recordamos las diferencias entre *RegS* (solo han jugado temporada regular, pero no playoff ni han ganado anillo), *playoff* (han jugado temporada regular y playoff, pero no han ganado anillo) y *ring* (han jugado temporada regular, playoff y han ganado anillo).\n",
    "\n",
    "Por eso hay variables que se encuentran en los tres dataframes, hay otras que se encuentran en dos de ellos y hay otras que solo aparecen en uno. Hacemos estas agrupaciones para ayudarnos a hacer el profiling."
   ]
  },
  {
   "cell_type": "markdown",
   "id": "8bdd21e4",
   "metadata": {},
   "source": [
    "### 4.5.1 *common_three*"
   ]
  },
  {
   "cell_type": "markdown",
   "id": "10345b73",
   "metadata": {},
   "source": [
    "Primero, construimos un dataframe con las variables que aparecen en los 3 dataframes previos"
   ]
  },
  {
   "cell_type": "code",
   "execution_count": null,
   "id": "27710841",
   "metadata": {},
   "outputs": [],
   "source": [
    "common_playoff_ring = playoff_golden_record.columns.intersection(ring_golden_record.columns)\n",
    "print(len(common_playoff_ring))\n",
    "\n",
    "common_three = common_playoff_ring.intersection(regs_golden_record.columns)\n",
    "print(len(common_three))"
   ]
  },
  {
   "cell_type": "code",
   "execution_count": null,
   "id": "4183205c",
   "metadata": {},
   "outputs": [],
   "source": [
    "common_regs_df = regs_golden_record[[c for c in regs_golden_record.columns if c in common_three]]\n",
    "common_regs_df.head()"
   ]
  },
  {
   "cell_type": "code",
   "execution_count": null,
   "id": "ac7162a2",
   "metadata": {},
   "outputs": [],
   "source": [
    "common_playoff_df = playoff_golden_record[[c for c in playoff_golden_record.columns if c in common_three]]\n",
    "common_playoff_df.head()"
   ]
  },
  {
   "cell_type": "code",
   "execution_count": null,
   "id": "0fcd35e0",
   "metadata": {},
   "outputs": [],
   "source": [
    "common_ring_df = ring_golden_record[[c for c in ring_golden_record.columns if c in common_three]]\n",
    "common_ring_df.head()"
   ]
  },
  {
   "cell_type": "code",
   "execution_count": null,
   "id": "f120f55e",
   "metadata": {},
   "outputs": [],
   "source": [
    "three_common_df = common_regs_df.append(common_playoff_df).append(common_ring_df).reset_index(drop=True)\n",
    "three_common_df"
   ]
  },
  {
   "cell_type": "markdown",
   "id": "51df76e8",
   "metadata": {},
   "source": [
    "Visualizamos los 10 clusters a la vez"
   ]
  },
  {
   "cell_type": "code",
   "execution_count": null,
   "id": "8b2931e7",
   "metadata": {},
   "outputs": [],
   "source": [
    "three_common_df['Cluster'].hist(bins=10,color='green')"
   ]
  },
  {
   "cell_type": "markdown",
   "id": "9e590244",
   "metadata": {},
   "source": [
    "### 4.5.2 *playoff_ring_common*"
   ]
  },
  {
   "cell_type": "markdown",
   "id": "e3eedacc",
   "metadata": {},
   "source": [
    "Construimos un dataframe con las variables que tienen en común *playoff* y *ring*, pero no *RegS*"
   ]
  },
  {
   "cell_type": "code",
   "execution_count": null,
   "id": "dce37c58",
   "metadata": {},
   "outputs": [],
   "source": [
    "ring_playoff_common_cols = [c for c in common_playoff_ring if c not in common_three]\n",
    "ring_playoff_common_cols.append('URL')\n",
    "ring_playoff_common_cols.append('Cluster')\n",
    "ring_playoff_common_cols"
   ]
  },
  {
   "cell_type": "code",
   "execution_count": null,
   "id": "aba1789f",
   "metadata": {},
   "outputs": [],
   "source": [
    "playoff_ring_common = playoff_golden_record[[c for c in playoff_golden_record.columns if c in ring_playoff_common_cols]]\n",
    "playoff_ring_common.head()"
   ]
  },
  {
   "cell_type": "code",
   "execution_count": null,
   "id": "29d79711",
   "metadata": {},
   "outputs": [],
   "source": [
    "ring_playoff_common = ring_golden_record[[c for c in ring_golden_record.columns if c in ring_playoff_common_cols]]\n",
    "ring_playoff_common.head()"
   ]
  },
  {
   "cell_type": "code",
   "execution_count": null,
   "id": "cbd712cc",
   "metadata": {},
   "outputs": [],
   "source": [
    "Pff_ring_commmon_df = playoff_ring_common.append(ring_playoff_common).reset_index(drop=True)\n",
    "Pff_ring_commmon_df"
   ]
  },
  {
   "cell_type": "markdown",
   "id": "64f021e9",
   "metadata": {},
   "source": [
    "### 4.5.3 *regs_non_common*"
   ]
  },
  {
   "cell_type": "markdown",
   "id": "0144efa7",
   "metadata": {},
   "source": [
    "Construimos un dataframe con las variables del dataframe *RegS*, pero que no se encuentran en *playoff* ni *ring*"
   ]
  },
  {
   "cell_type": "code",
   "execution_count": null,
   "id": "432e4816",
   "metadata": {},
   "outputs": [],
   "source": [
    "common_three = common_three.drop('URL')\n",
    "common_three = common_three.drop('Cluster')\n",
    "common_three"
   ]
  },
  {
   "cell_type": "code",
   "execution_count": null,
   "id": "31d70ee3",
   "metadata": {},
   "outputs": [],
   "source": [
    "regs_non_common = regs_golden_record[[c for c in regs_golden_record.columns if c not in common_three]]\n",
    "regs_non_common.head()"
   ]
  },
  {
   "cell_type": "markdown",
   "id": "c4ef25b2",
   "metadata": {},
   "source": [
    "### 4.5.4 *playoff_non_common*"
   ]
  },
  {
   "cell_type": "markdown",
   "id": "658fd7f2",
   "metadata": {},
   "source": [
    "Construimos un dataframe con las variables del dataframe *playoff*, pero que no se encuentran en *RegS* ni *ring*"
   ]
  },
  {
   "cell_type": "code",
   "execution_count": null,
   "id": "308d3632",
   "metadata": {},
   "outputs": [],
   "source": [
    "ring_playoff_common_cols.remove('URL')\n",
    "ring_playoff_common_cols.remove('Cluster')\n",
    "\n",
    "ring_playoff_common_cols.extend(common_three)\n",
    "other_cols = ring_playoff_common_cols\n",
    "other_cols"
   ]
  },
  {
   "cell_type": "code",
   "execution_count": null,
   "id": "774afd4e",
   "metadata": {},
   "outputs": [],
   "source": [
    "playoff_non_common = playoff_golden_record[[c for c in playoff_golden_record.columns if c not in other_cols]]\n",
    "playoff_non_common.head()"
   ]
  },
  {
   "cell_type": "markdown",
   "id": "90e2eb43",
   "metadata": {},
   "source": [
    "### 4.5.5 *ring_non_common*"
   ]
  },
  {
   "cell_type": "markdown",
   "id": "d1a4e2f8",
   "metadata": {},
   "source": [
    "Construimos un dataframe con las variables del dataframe *ring*, pero que no se encuentran en *RegS* ni *playoff*"
   ]
  },
  {
   "cell_type": "code",
   "execution_count": null,
   "id": "909dc643",
   "metadata": {},
   "outputs": [],
   "source": [
    "ring_non_common = ring_golden_record[[c for c in ring_golden_record.columns if c not in other_cols]]\n",
    "ring_non_common.head()"
   ]
  },
  {
   "cell_type": "markdown",
   "id": "edd07c7c",
   "metadata": {},
   "source": [
    "## 4.6 Analizar los custers, construir los perfiles"
   ]
  },
  {
   "cell_type": "markdown",
   "id": "89ba8923",
   "metadata": {},
   "source": [
    "Hay que describir los diferentes clusters teniendo en cuenta las variables de los distintos Dataframe que los caracterizan"
   ]
  },
  {
   "cell_type": "markdown",
   "id": "ef3485b4",
   "metadata": {},
   "source": [
    "Definimos algunas funciones que nos van a ayudar a pintar las distribuciones"
   ]
  },
  {
   "cell_type": "code",
   "execution_count": null,
   "id": "6910c634",
   "metadata": {},
   "outputs": [],
   "source": [
    "def paint_num_dist(col,DATA):\n",
    "    sns.boxplot(x=\"Cluster\", y=col, data=DATA)\n",
    "    plt.show()"
   ]
  },
  {
   "cell_type": "code",
   "execution_count": null,
   "id": "c1fb8f48",
   "metadata": {},
   "outputs": [],
   "source": [
    "def group_catvars(col, n_max=9, misc_label='Other'):\n",
    "        \"\"\"\n",
    "        Function to group sparse categories into an Other label\n",
    "        :param col: pd.Series / Categorical / Object series to group\n",
    "        :param n_max: int / maximum number of stand-alone categories to keep, default = 9\n",
    "        :param misc_label: str / Label to assign to the grouped category, default = 'Other'\n",
    "        \"\"\"\n",
    "        cols_to_keep = col.value_counts().index[:n_max]\n",
    "        return  np.where(col.isin(cols_to_keep), col, misc_label)"
   ]
  },
  {
   "cell_type": "code",
   "execution_count": null,
   "id": "a0361868",
   "metadata": {},
   "outputs": [],
   "source": [
    "def plot_cluster_distributions(df_clus, var_x='Cluster', var_hue='', sort=True , save_plot=False, _name='model', n_max=9):\n",
    "        \"\"\"\n",
    "        Function to plot normalized stacked distribution of clusters with one variable\n",
    "        :param df_clus: DataFrame with a column labelled 'cluster'\n",
    "        :param var_x: str / Var to plot in the X axis, default = 'cluster'\n",
    "        :param var_hue: str / Var to plot the stacked distribution as a hue\n",
    "        :param sort: bool (default : True)  / Whether to sort columns\n",
    "        :param save_plot: False/str  (default : False) / If not False, folder to save the plot \n",
    "        :param _name: str  (default : 'model') / Prefix of the files to be saved\n",
    "        \"\"\"   \n",
    "        df_plot = df_clus[[var_hue, var_x, df_clus.columns[1]]].copy() \n",
    "        n_clus = df_clus['Cluster'].nunique()\n",
    "\n",
    "        if (var_x != 'Cluster'):    df_plot[var_x]   = group_catvars(df_plot[var_x],    n_max, misc_label='Other')\n",
    "        if (var_hue  != 'Cluster'): df_plot[var_hue] = group_catvars(df_plot[var_hue],  n_max, misc_label='Other')\n",
    "\n",
    "        plt.figure(figsize= (20,7) )\n",
    "        ax = plt.gca()\n",
    "        if (df_plot[var_hue].nunique() <=20): \n",
    "            colors = plt.cm.get_cmap('tab20').colors\n",
    "        else: colors = sns.color_palette(\"hls\", df_plot[var_hue].nunique()+3)\n",
    "            \n",
    "        df_plot2 = df_plot.pivot_table(index=var_x, values= df_plot.columns[2], columns=var_hue, aggfunc='count')\\\n",
    "            .divide(df_plot[var_x].value_counts(), axis=0)\n",
    "        \n",
    "        if(sort):  df_plot2 = df_plot2.reindex(df_plot['Cluster'].value_counts().index)\n",
    "            \n",
    "        df_plot2.plot(kind='bar', stacked=True, ax=ax, rot=0, color=colors)\n",
    "        if(var_x=='Cluster'): plt.xticks(range(n_clus), df_plot2.index);\n",
    "        plt.xlabel(var_x);plt.title(var_hue);\n",
    "        #Plotting.autolabel(ax, prop=True, values= df_plot.groupby([var_hue, var_x]).count().dropna()[df_clus.columns[1]].values)\n",
    "        if (save_plot):\n",
    "            os.makedirs(save_plot, exist_ok=True)\n",
    "            plt.savefig(save_plot+'/'+_name+'_'+var_x+'_'+var_hue+'.png', format=\"png\")"
   ]
  },
  {
   "cell_type": "markdown",
   "id": "dfe5113f",
   "metadata": {},
   "source": [
    "### 4.6.1 Análisis de las columnas comunes "
   ]
  },
  {
   "cell_type": "code",
   "execution_count": null,
   "id": "a6cc9b54",
   "metadata": {},
   "outputs": [],
   "source": [
    "three_common_df.columns"
   ]
  },
  {
   "cell_type": "markdown",
   "id": "03f833f6",
   "metadata": {},
   "source": [
    "Análisis de la distribución por clusters de las variables numéricas. Algunas variables las revisamos y las analizamos más en profunidad más abajo"
   ]
  },
  {
   "cell_type": "code",
   "execution_count": null,
   "id": "4dfbb14b",
   "metadata": {},
   "outputs": [],
   "source": [
    "stats = three_common_df.groupby('Cluster').describe()\n",
    "stats.to_excel('./Models/Statistics/Three_common_GR_statistics.xlsx')\n",
    "\n",
    "for i in three_common_df.columns:\n",
    "    if three_common_df[i].dtype!='object':\n",
    "        print(i, '\\n',stats[i], '\\n')"
   ]
  },
  {
   "cell_type": "code",
   "execution_count": null,
   "id": "97dca125",
   "metadata": {},
   "outputs": [],
   "source": [
    "for i in three_common_df.columns:\n",
    "    if three_common_df[i].dtype!='object':\n",
    "        paint_num_dist(i,three_common_df)"
   ]
  },
  {
   "cell_type": "markdown",
   "id": "31d97ce3",
   "metadata": {},
   "source": [
    "Análisis de la distribución por clusters de la variable *COMMON_POSITION*"
   ]
  },
  {
   "cell_type": "code",
   "execution_count": null,
   "id": "18bd8eb9",
   "metadata": {},
   "outputs": [],
   "source": [
    "for i in three_common_df.columns:\n",
    "    if three_common_df[i].dtype=='object' and i!='URL' and i!='Cluster':\n",
    "        #print(i)\n",
    "        plot_cluster_distributions(three_common_df, var_x='Cluster', var_hue=i, sort=True , save_plot=False, _name='model', n_max=10) "
   ]
  },
  {
   "cell_type": "markdown",
   "id": "ad3b4e3d",
   "metadata": {},
   "source": [
    "Análisis de la variable *IS_ACTIVE*"
   ]
  },
  {
   "cell_type": "code",
   "execution_count": null,
   "id": "f8b94cec",
   "metadata": {},
   "outputs": [],
   "source": [
    "active_df = three_common_df[['Cluster','IS_ACTIVE']].groupby('Cluster').agg({'IS_ACTIVE':['sum','count']})"
   ]
  },
  {
   "cell_type": "code",
   "execution_count": null,
   "id": "37178a5d",
   "metadata": {},
   "outputs": [],
   "source": [
    "active_df['IS_ACTIVE_%'] = (active_df['IS_ACTIVE']['sum']/active_df['IS_ACTIVE']['count'])*100"
   ]
  },
  {
   "cell_type": "code",
   "execution_count": null,
   "id": "4448f0ad",
   "metadata": {},
   "outputs": [],
   "source": [
    "active_df"
   ]
  },
  {
   "cell_type": "markdown",
   "id": "69abeb7b",
   "metadata": {},
   "source": [
    "Análisis concreto de la variable *ROY*.\n",
    "\n",
    "Recordemos que *ROY* indica si el jugador ha recibido el premio del mejor *rookie* (jugador de primer año) de la temporada"
   ]
  },
  {
   "cell_type": "code",
   "execution_count": null,
   "id": "ac7a9742",
   "metadata": {},
   "outputs": [],
   "source": [
    "ROY_df = three_common_df[['Cluster','ROY']].groupby('Cluster').agg({'ROY':['sum','count'],})"
   ]
  },
  {
   "cell_type": "code",
   "execution_count": null,
   "id": "c831965f",
   "metadata": {},
   "outputs": [],
   "source": [
    "ROY_df['ROY_%'] = ROY_df['ROY']['sum']/ROY_df['ROY']['count']"
   ]
  },
  {
   "cell_type": "code",
   "execution_count": null,
   "id": "c1b95fd5",
   "metadata": {},
   "outputs": [],
   "source": [
    "ROY_df"
   ]
  },
  {
   "cell_type": "markdown",
   "id": "b997d2d4",
   "metadata": {},
   "source": [
    "Revisamos y analizamos la variable *DRAFT_PICK*, para obtener cuántos jugadores de cada cluster fueron seleccionados en el draft y en qué posición fueron elegidos"
   ]
  },
  {
   "cell_type": "code",
   "execution_count": null,
   "id": "ed0ce33f",
   "metadata": {},
   "outputs": [],
   "source": [
    "draft_df = three_common_df[['Cluster','DRAFT_PICK']]\n",
    "draft_df['Drafted'] = draft_df['DRAFT_PICK'].apply(lambda x: 1 if x!=-100 else 0)\n",
    "draft_gb = draft_df.groupby('Cluster').agg({'Drafted':['sum','count']})\n",
    "draft_gb['Drafted_%'] = (draft_gb['Drafted']['sum']/draft_gb['Drafted']['count'])*100\n",
    "draft_gb"
   ]
  },
  {
   "cell_type": "code",
   "execution_count": null,
   "id": "231ae76c",
   "metadata": {},
   "outputs": [],
   "source": [
    "drafted_picks = draft_df[draft_df['Drafted']==1][['Cluster','DRAFT_PICK']].groupby('Cluster').mean()\n",
    "drafted_picks"
   ]
  },
  {
   "cell_type": "markdown",
   "id": "70f22b6e",
   "metadata": {},
   "source": [
    "### 4.6.2 Análisis de las columnas comunes en *playoff* y *ring*"
   ]
  },
  {
   "cell_type": "code",
   "execution_count": null,
   "id": "c316beef",
   "metadata": {},
   "outputs": [],
   "source": [
    "Pff_ring_commmon_df"
   ]
  },
  {
   "cell_type": "markdown",
   "id": "2aea418f",
   "metadata": {},
   "source": [
    "Análisis de la distribución por clusters de las variables numéricas (las únicas que no son numéricas son *URL* y *Cluster*)"
   ]
  },
  {
   "cell_type": "code",
   "execution_count": null,
   "id": "41320295",
   "metadata": {},
   "outputs": [],
   "source": [
    "stats = Pff_ring_commmon_df.groupby('Cluster').describe()\n",
    "stats.to_excel('./Models/Statistics/Playoff_ring_common_GR_statistics.xlsx')\n",
    "\n",
    "for i in Pff_ring_commmon_df.columns:\n",
    "    if Pff_ring_commmon_df[i].dtype!='object':\n",
    "        print(i, '\\n',stats[i], '\\n')"
   ]
  },
  {
   "cell_type": "code",
   "execution_count": null,
   "id": "fce0fdbe",
   "metadata": {},
   "outputs": [],
   "source": [
    "for i in Pff_ring_commmon_df.columns:\n",
    "    if Pff_ring_commmon_df[i].dtype!='object':\n",
    "        paint_num_dist(i,Pff_ring_commmon_df)"
   ]
  },
  {
   "cell_type": "markdown",
   "id": "e69232e9",
   "metadata": {},
   "source": [
    "### 4.6.3 Análisis de las columnas no comunes de *RegS*"
   ]
  },
  {
   "cell_type": "code",
   "execution_count": null,
   "id": "03a69f79",
   "metadata": {},
   "outputs": [],
   "source": [
    "regs_non_common"
   ]
  },
  {
   "cell_type": "markdown",
   "id": "b80a3d6a",
   "metadata": {},
   "source": [
    "Análisis de la distribución por clusters de las variables numéricas (las únicas que no son numéricas son *URL* y *Cluster*)"
   ]
  },
  {
   "cell_type": "code",
   "execution_count": null,
   "id": "938a0b37",
   "metadata": {},
   "outputs": [],
   "source": [
    "stats = regs_non_common.groupby('Cluster').describe()\n",
    "stats.to_excel('./Models/Statistics/RegS_non_common_GR_statistics.xlsx')\n",
    "\n",
    "for i in regs_non_common.columns:\n",
    "    if regs_non_common[i].dtype!='object':\n",
    "        print(i, '\\n', stats[i], '\\n')"
   ]
  },
  {
   "cell_type": "code",
   "execution_count": null,
   "id": "9bdb24c0",
   "metadata": {},
   "outputs": [],
   "source": [
    "for i in regs_non_common.columns:\n",
    "    if regs_non_common[i].dtype!='object':\n",
    "        paint_num_dist(i,regs_non_common)"
   ]
  },
  {
   "cell_type": "markdown",
   "id": "1c680104",
   "metadata": {},
   "source": [
    "### 4.6.4 Análisis de las columnas no comunes de *playoff*"
   ]
  },
  {
   "cell_type": "code",
   "execution_count": null,
   "id": "5310632f",
   "metadata": {},
   "outputs": [],
   "source": [
    "playoff_non_common"
   ]
  },
  {
   "cell_type": "markdown",
   "id": "14df4595",
   "metadata": {},
   "source": [
    "Análisis de la distribución por clusters de las variables numéricas (las únicas que no son numéricas son *URL* y *Cluster*)"
   ]
  },
  {
   "cell_type": "code",
   "execution_count": null,
   "id": "1aa94b9b",
   "metadata": {},
   "outputs": [],
   "source": [
    "stats = playoff_non_common.groupby('Cluster').describe()\n",
    "stats.to_excel('./Models/Statistics/Playoff_non_common_GR_statistics.xlsx')\n",
    "\n",
    "for i in playoff_non_common.columns:\n",
    "    if playoff_non_common[i].dtype!='object':\n",
    "        print(i, '\\n', stats[i], '\\n')"
   ]
  },
  {
   "cell_type": "code",
   "execution_count": null,
   "id": "3edba899",
   "metadata": {},
   "outputs": [],
   "source": [
    "for i in playoff_non_common.columns:\n",
    "    if playoff_non_common[i].dtype!='object':\n",
    "        paint_num_dist(i,playoff_non_common)"
   ]
  },
  {
   "cell_type": "markdown",
   "id": "b0708fce",
   "metadata": {},
   "source": [
    "### 4.6.5 Análisis de las columnas no comunes de *ring*"
   ]
  },
  {
   "cell_type": "code",
   "execution_count": null,
   "id": "1b3d5b22",
   "metadata": {},
   "outputs": [],
   "source": [
    "ring_non_common"
   ]
  },
  {
   "cell_type": "markdown",
   "id": "eba11062",
   "metadata": {},
   "source": [
    "Análisis de la distribución por clusters de las variables numéricas (las únicas que no son numéricas son *URL* y *Cluster*)"
   ]
  },
  {
   "cell_type": "code",
   "execution_count": null,
   "id": "4a585ebc",
   "metadata": {},
   "outputs": [],
   "source": [
    "stats = ring_non_common.groupby('Cluster').describe()\n",
    "stats.to_excel('./Models/Statistics/Ring_non_common_GR_statistics.xlsx')\n",
    "\n",
    "for i in ring_non_common.columns:\n",
    "    if ring_non_common[i].dtype!='object':\n",
    "        print(i, '\\n', stats[i], '\\n')"
   ]
  },
  {
   "cell_type": "code",
   "execution_count": null,
   "id": "77109952",
   "metadata": {},
   "outputs": [],
   "source": [
    "for i in ring_non_common.columns:\n",
    "    if ring_non_common[i].dtype!='object':\n",
    "        paint_num_dist(i,ring_non_common)"
   ]
  },
  {
   "cell_type": "markdown",
   "id": "001742ae",
   "metadata": {},
   "source": [
    "### 4.6.6 Análisis de columnas \"extra\""
   ]
  },
  {
   "cell_type": "markdown",
   "id": "918a7e6e",
   "metadata": {},
   "source": [
    "Análisis de información que hemos usado en otras fases del proyecto yque nos pueden ayudar con el profiling"
   ]
  },
  {
   "cell_type": "code",
   "execution_count": null,
   "id": "a982c2ba",
   "metadata": {},
   "outputs": [],
   "source": [
    "three_common_df"
   ]
  },
  {
   "cell_type": "code",
   "execution_count": null,
   "id": "94ac1cc4",
   "metadata": {},
   "outputs": [],
   "source": [
    "path = './Clean_data/'\n",
    "players_df = pd.read_csv(path + 'All_players_Clean.csv',index_col=0)"
   ]
  },
  {
   "cell_type": "code",
   "execution_count": null,
   "id": "e59e3198",
   "metadata": {
    "scrolled": true
   },
   "outputs": [],
   "source": [
    "H_W_df = players_df[['URL', 'HEIGHT(cm)','WEIGHT(kg)']]\n",
    "three_common_df_1 = three_common_df.merge(H_W_df, how='left',on='URL').drop_duplicates().reset_index(drop=True)\n",
    "three_common_df_1"
   ]
  },
  {
   "cell_type": "code",
   "execution_count": null,
   "id": "1d429011",
   "metadata": {},
   "outputs": [],
   "source": [
    "paint_num_dist('HEIGHT(cm)',three_common_df_1)"
   ]
  },
  {
   "cell_type": "code",
   "execution_count": null,
   "id": "5bdf0c42",
   "metadata": {},
   "outputs": [],
   "source": [
    "paint_num_dist('WEIGHT(kg)',three_common_df_1)"
   ]
  },
  {
   "cell_type": "markdown",
   "id": "99b5ad19",
   "metadata": {},
   "source": [
    "Obtenemos una tabla resumen de las dimensiones de los jugadores, en cuanto a altura y peso"
   ]
  },
  {
   "cell_type": "code",
   "execution_count": null,
   "id": "49cc2d01",
   "metadata": {},
   "outputs": [],
   "source": [
    "three_common_df_1[['Cluster', 'HEIGHT(cm)','WEIGHT(kg)']].groupby('Cluster').mean()"
   ]
  },
  {
   "cell_type": "markdown",
   "id": "b52ed8bf",
   "metadata": {},
   "source": [
    "## 4.7 Perfiles de los jugadores por cluster"
   ]
  },
  {
   "cell_type": "markdown",
   "id": "adf90625",
   "metadata": {},
   "source": [
    "### Clúster 0: Jugadores exteriores de rol con poco impacto\n",
    "\n",
    "**Notas:** Sin participación en *playoffs* o *ring*.\n",
    "\n",
    "**Descripción:** Jugadores exteriores de rol con poco impacto y participación en la liga NBA. Muchos de ellos no han sido jugadores elegidos en el draft. Representan el clúster más grande (20 %) pero también el clúster con menos jugadores en activo. Todo y tener poco impacto, el impacto ofensivo es un 60 % mayor que el impacto defensivo. Algunos jugadores de este clúster han ido a buscar oportunidades en ligas europeas.\n",
    "\n",
    "**Jugadores de este clúster son:** *Leandro Bolmaro, Omar Cook, Tyler Dorsey, Nigel Hayes, Cory Higgins, Nico Laprovittola, Sonny Weems.*\n",
    "\n",
    "### Clúster 1: Jugadores interiores con muy poco impacto\n",
    "\n",
    "**Notas:** Sin participación en *playoffs* o *ring*.\n",
    "\n",
    "**Descripción:** Jugadores interiores con muy poco impacto y participación en la liga NBA. Muchos de ellos no han sido jugadores elegidos en el draft. Representan un clúster significativamente grande pero también el clúster con menos jugadores en activo en porcentaje (7 %). Son jugadores con un balance ofensivo/defensivo y que aumentan su impacto a lo largo de su carrera. Algunos jugadores de este clúster han ido a buscar oportunidades en ligas europeas.\n",
    "\n",
    "**Jugadores de este clúster son:** *Joe Arlaukas, Aleksandar Radojević, Anthony Bennett, Boniface N'Dong, Maciej Lampe, Joe Alexander.*\n",
    "\n",
    "### Clúster 2: Jovenes promesas de la NBA, jugando en equipos no aspirantes a *ring*\n",
    "\n",
    "\n",
    "**Notas:** Sin participación en *playoffs* o *ring*. Presencia de algun jugador *all-star*.\n",
    "\n",
    "**Descripción:** Jugadores jovenes, interiores y exteriores, promesas de la NBA, algunos sin oportunidades. Muchos de ellos han sido jugadores elegidos en el draft. Representan un clúster significativamente pequeño pero con un alto porcentaje de jugadores en activo. Muchos de los jugadores disminuyen su impacto a lo largo de su carrera, diminuyendo participación en la liga NBA.\n",
    "\n",
    "**Jugadores de este clúster son:** *Hermanos Ball, Zion Williamson, Cade Cunningham, Collin Sexton.*\n",
    "\n",
    "### Clúster 3: Jugadores exteriores de rol defensivo\n",
    "\n",
    "**Notas:** Sin impacto significativo en *playoffs* o *ring*.\n",
    "\n",
    "**Descripción:** Jugadores interiores, con un rol defensivo. Se trata de jugadores de rol defensivo con un impacto medio en su equipo. Son jugadores que no tienen mucho tiempo el balón. La estadística con mayor impacto son los rebotes.\n",
    "\n",
    "**Jugadores de este clúster son:** *Luis Scola, Manute Bol, Joaquim Noah, Andre Drummond, Kyle O’Quin.*\n",
    "\n",
    "### Clúster 4: Jugadores de rol en *playoffs* con un impacto bajo\n",
    "\n",
    "**Notas:** Con un impacto bajo en *playoffs* y *ring*.\n",
    "\n",
    "**Descripción:** Jugadores mayoritariamente exteriores aunque también interiores, con un rol de rotación en equipos de *playoff*. Representan el clúster más grande. Se trata de jugadores equilibrados que juegan minutos intrascendentes en segundas rotaciones. Generalmente, no generan minutos de calidad y tiene bajos porcentajes ofensivos.\n",
    "\n",
    "**Jugadores de este clúster son:** *Muggsy Bogues, Seth Curry, Brandon Paul, Mirza Teletović, Juancho Hernangómez.*\n",
    "\n",
    "### Clúster 5: Jugadores de rol en *playoffs* con un impacto medio\n",
    "\n",
    "**Notas:** Con un impacto medio en *playoffs* y *ring*. Presencia de algun jugador *all-star*.\n",
    "\n",
    "**Descripción:** Jugadores mayoritariamente exteriores aunque también interiores, con un rol de rotación, e incluso sexto hombre, en equipos de *playoff*. Contiene el mayor número de jugadores en activo. Se trata de jugadores ofensivos que aportan minutos de calidad y tienen buenos porcentajes ofensivos.\n",
    "\n",
    "**Jugadores de este clúster son:** *Álex Abrines, Nicolas Batum, Jose Calderón, Andrew Wiggins, Joe Ingles, Rudy Gay.*\n",
    "\n",
    "### Clúster 6: Jugadores franquicia sin *ring* o con potencial para *ring*\n",
    "\n",
    "**Notas:** Líderes en *playoffs*. Presencia de jugadores *all-star*.\n",
    "\n",
    "**Descripción:** Jugadores franquicia, el 25 % solo juega en un equipo durante su carrera, que no han ganado *ring*. Tienen puestos altos en el draft. Buenas estadísticas ofensivas y defensivas, con mucho tiempo de balón en cada jugada. Son jugadores que participan en casi todas las jugadas de su equipo mientras estan en pista.\n",
    "\n",
    "**Jugadores de este clúster son:** *Vlade Divac, Patt Ewing, Tim Hardaway, Karl Malone, Chris Mullin , Reggie Miller, Arvydas Sabonis, Luka Doncic.*\n",
    "\n",
    "### Clúster 7: Estrellas exteriores, líderes en *playoffs* y *ring*\n",
    "\n",
    "**Notas:** Líderes en *playoffs* y *ring*. Presencia de jugadores *all-star*.\n",
    "\n",
    "**Descripción:** Jugadres estrella exteriores que han sido líderes en *playoffs* y *ring*. Mayor número de *rings* entre todos los clústers. Tienen puestos altos en el draft. Son jugadores con carreras la\n",
    "\n",
    "**Jugadores de este clúster son:** *Ray Allen, Kobe Bryant, Stephen Curry, Kyrie Irving, LeBron James, Michael Jordan.*\n",
    "\n",
    "### Clúster 8: Jugadores extranjeros con impacto en *playoffs* y *ring*\n",
    "\n",
    "**Notas:** Con impacto en *playoffs* y *ring*. Presencia media de jugadores *all-star*.\n",
    "\n",
    "**Descripción:** \n",
    "\n",
    "**Jugadores de este clúster son:** *Alexis Ajinça, Nando de Colo, Rodrigue Beaubois, Jason Kapono.*\n",
    "\n",
    "### Clúster 9: Estrellas interiores, líderes en *playoffs* y *ring*\n",
    "\n",
    "**Notas:** Líderes en *playoffs* y *ring*. Presencia de jugadores *all-star*.\n",
    "\n",
    "**Descripción:** \n",
    "\n",
    "**Jugadores de este clúster son:** *Hermanos Gasol, Chris Bosh, David West, Dennis Rodman, Zaza Pachulia*"
   ]
  },
  {
   "cell_type": "markdown",
   "id": "7639d90a",
   "metadata": {},
   "source": [
    "## 4.8 Guardamos los Clustering Boards"
   ]
  },
  {
   "cell_type": "markdown",
   "id": "be88ca01",
   "metadata": {},
   "source": [
    "Añadimos el nombre a las distintas tablas y las guardamos."
   ]
  },
  {
   "cell_type": "code",
   "execution_count": null,
   "id": "8ce578e7",
   "metadata": {},
   "outputs": [],
   "source": [
    "regs_golden_record_1 = regs_golden_record.merge(players_df[['URL','NAME']], how='left',on='URL').drop_duplicates().reset_index(drop=True)\n",
    "regs_golden_record_1"
   ]
  },
  {
   "cell_type": "code",
   "execution_count": null,
   "id": "0a6d2a83",
   "metadata": {},
   "outputs": [],
   "source": [
    "playoff_golden_record_1 = playoff_golden_record.merge(players_df[['URL','NAME']], how='left',on='URL').drop_duplicates().reset_index(drop=True)\n",
    "playoff_golden_record_1"
   ]
  },
  {
   "cell_type": "code",
   "execution_count": null,
   "id": "9ccbb576",
   "metadata": {},
   "outputs": [],
   "source": [
    "ring_golden_record_1 = ring_golden_record.merge(players_df[['URL','NAME']], how='left',on='URL').drop_duplicates().reset_index(drop=True)\n",
    "ring_golden_record_1"
   ]
  },
  {
   "cell_type": "code",
   "execution_count": null,
   "id": "7d5f978a",
   "metadata": {},
   "outputs": [],
   "source": [
    "path = './Models/Clustering Board/'\n",
    "\n",
    "regs_golden_record_1.to_excel(path + 'RegS_Clustering_Board.xlsx')\n",
    "playoff_golden_record_1.to_excel(path + 'Playoff_Clustering_Board.xlsx')\n",
    "ring_golden_record_1.to_excel(path + 'Ring_Clustering_Board.xlsx')"
   ]
  }
 ],
 "metadata": {
  "kernelspec": {
   "display_name": "Python 3 (ipykernel)",
   "language": "python",
   "name": "python3"
  },
  "language_info": {
   "codemirror_mode": {
    "name": "ipython",
    "version": 3
   },
   "file_extension": ".py",
   "mimetype": "text/x-python",
   "name": "python",
   "nbconvert_exporter": "python",
   "pygments_lexer": "ipython3",
   "version": "3.9.7"
  }
 },
 "nbformat": 4,
 "nbformat_minor": 5
}
